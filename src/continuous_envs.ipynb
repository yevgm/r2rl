{
 "cells": [
  {
   "cell_type": "code",
   "execution_count": 195,
   "metadata": {},
   "outputs": [
    {
     "name": "stdout",
     "output_type": "stream",
     "text": [
      "The autoreload extension is already loaded. To reload it, use:\n",
      "  %reload_ext autoreload\n"
     ]
    }
   ],
   "source": [
    "%load_ext autoreload\n",
    "%autoreload 2"
   ]
  },
  {
   "cell_type": "code",
   "execution_count": 196,
   "metadata": {},
   "outputs": [],
   "source": [
    "import sys\n",
    "sys.path.insert(0, '..')\n",
    "import argparse\n",
    "\n",
    "import os\n",
    "import random\n",
    "\n",
    "from matplotlib import pyplot as plt\n",
    "import seaborn as sns\n",
    "import numpy as np"
   ]
  },
  {
   "cell_type": "code",
   "execution_count": 197,
   "metadata": {},
   "outputs": [],
   "source": [
    "from config import parse_args_ddqn,parse_global_args, get_sweep_params\n",
    "from dqn.dqn_runner import evaluate_policy, UpdateCartpoleParams, UpdateAcrobotParams, UpdateMountaincarParams\n",
    "from dqn.dqn_visualize import train_and_evaluate, LoadModel\n",
    "from dqn.dqn import DQN_Agent"
   ]
  },
  {
   "cell_type": "code",
   "execution_count": 198,
   "metadata": {},
   "outputs": [],
   "source": [
    "plt.rcParams[\"font.weight\"] = \"bold\"\n",
    "plt.rcParams[\"axes.labelweight\"] = \"bold\""
   ]
  },
  {
   "cell_type": "code",
   "execution_count": 199,
   "metadata": {},
   "outputs": [],
   "source": [
    "parent = argparse.ArgumentParser()\n",
    "global_parser = parse_global_args(parent)\n",
    "ddqn_parser = parse_args_ddqn(global_parser)"
   ]
  },
  {
   "cell_type": "markdown",
   "metadata": {},
   "source": [
    "# Cartpole"
   ]
  },
  {
   "cell_type": "code",
   "execution_count": 161,
   "metadata": {},
   "outputs": [],
   "source": [
    "updater = UpdateCartpoleParams()\n",
    "args = updater.update_parser(ddqn_parser)[0]\n",
    "args.EnvIdex = 0"
   ]
  },
  {
   "cell_type": "code",
   "execution_count": 162,
   "metadata": {},
   "outputs": [],
   "source": [
    "temp_vanilla_cp_file_rew = os.path.abspath(os.path.join('.', 'plot_data', 'vanilla_rew_cartpole_earlystop_sched1_5e5_ema'))\n",
    "temp_vanilla_cp_file_error = os.path.abspath(os.path.join('.', 'plot_data', 'vanilla_error_cartpole_earlystop_ema'))\n",
    "\n",
    "temp_r2_cp_file_rew = os.path.abspath(os.path.join('.', 'plot_data', 'r2_rew_cartpole_lr_alpha4_earlystop_sched1_5e5_ema'))\n",
    "temp_r2_cp_file_error = os.path.abspath(os.path.join('.', 'plot_data', 'r2_error_cartpole_lr_alpha4_earlystop_sched1_5e5_ema'))\n",
    "\n",
    "temp_robust_cp_file_rew = os.path.abspath(os.path.join('.', 'plot_data', 'robust_rew_cartpole_lr_alpha4_earlystop_sched1_5e5_ema'))\n",
    "temp_robust_cp_file_error = os.path.abspath(os.path.join('.', 'plot_data', 'robust_error_cartpole_alpha4_lr_earlystop_sched1_5e5_ema'))"
   ]
  },
  {
   "cell_type": "markdown",
   "metadata": {},
   "source": [
    "# Cartpole Pole Length Evaluation"
   ]
  },
  {
   "cell_type": "code",
   "execution_count": null,
   "metadata": {},
   "outputs": [],
   "source": [
    "sweep_str = 'length'\n",
    "sweep_vector = get_sweep_params(0, 'length')\n",
    "sweep_param = [sweep_vector, sweep_str]"
   ]
  },
  {
   "cell_type": "code",
   "execution_count": null,
   "metadata": {},
   "outputs": [],
   "source": [
    "file_end = '.npy'\n",
    "vanilla_cp_file_rew = temp_vanilla_cp_file_rew + sweep_str + file_end\n",
    "vanilla_cp_file_error = temp_vanilla_cp_file_error + sweep_str + file_end\n",
    "\n",
    "r2_cp_file_rew = temp_r2_cp_file_rew + sweep_str + file_end\n",
    "r2_cp_file_error = temp_r2_cp_file_error + sweep_str + file_end\n",
    "\n",
    "robust_cp_file_rew = temp_robust_cp_file_rew + sweep_str + file_end\n",
    "robust_cp_file_error = temp_robust_cp_file_error + sweep_str + file_end"
   ]
  },
  {
   "cell_type": "markdown",
   "metadata": {},
   "source": [
    "# Vanilla DDQN cartpole evaluation"
   ]
  },
  {
   "cell_type": "code",
   "execution_count": 10,
   "metadata": {},
   "outputs": [],
   "source": [
    "model_subfolder = 'vanilla_cartpole_reduleLR_scheduler1_5e5_ema'\n",
    "model_name = os.listdir(os.path.abspath(os.path.join('dqn', 'model', model_subfolder)))\n",
    "model_gen = LoadModel(args, subfolder=model_subfolder, model_name=model_name)"
   ]
  },
  {
   "cell_type": "code",
   "execution_count": 12,
   "metadata": {},
   "outputs": [
    {
     "name": "stderr",
     "output_type": "stream",
     "text": [
      "0it [00:00, ?it/s]\n",
      "  0%|                                                    | 0/17 [00:00<?, ?it/s]\u001B[A/home/jenya/miniconda3/envs/project2/lib/python3.8/site-packages/gym/envs/registration.py:216: UserWarning: \u001B[33mWARN: Overriding environment LocalCartPole-v1\u001B[0m\n",
      "  logger.warn(\"Overriding environment {}\".format(id))\n",
      "/home/jenya/miniconda3/envs/project2/lib/python3.8/site-packages/gym/envs/registration.py:216: UserWarning: \u001B[33mWARN: Overriding environment LocalCartPoleStochasticReward-v1\u001B[0m\n",
      "  logger.warn(\"Overriding environment {}\".format(id))\n",
      "/home/jenya/miniconda3/envs/project2/lib/python3.8/site-packages/gym/envs/registration.py:216: UserWarning: \u001B[33mWARN: Overriding environment LocalAcrobot-v0\u001B[0m\n",
      "  logger.warn(\"Overriding environment {}\".format(id))\n",
      "/home/jenya/miniconda3/envs/project2/lib/python3.8/site-packages/gym/envs/registration.py:216: UserWarning: \u001B[33mWARN: Overriding environment LocalMountainCar-v0\u001B[0m\n",
      "  logger.warn(\"Overriding environment {}\".format(id))\n",
      "\n",
      " 12%|█████▏                                      | 2/17 [00:05<00:40,  2.73s/it]\u001B[A\n",
      " 18%|███████▊                                    | 3/17 [00:14<01:04,  4.59s/it]\u001B[A\n",
      " 24%|██████████▎                                 | 4/17 [00:27<01:33,  7.21s/it]\u001B[A\n",
      " 29%|████████████▉                               | 5/17 [00:41<01:51,  9.27s/it]\u001B[A\n",
      " 35%|███████████████▌                            | 6/17 [00:59<02:08, 11.67s/it]\u001B[A\n",
      " 41%|██████████████████                          | 7/17 [01:14<02:08, 12.89s/it]\u001B[A\n",
      " 47%|████████████████████▋                       | 8/17 [01:33<02:10, 14.54s/it]\u001B[A\n",
      " 53%|███████████████████████▎                    | 9/17 [01:52<02:07, 15.96s/it]\u001B[A\n",
      " 59%|█████████████████████████▎                 | 10/17 [02:03<01:40, 14.39s/it]\u001B[A\n",
      " 65%|███████████████████████████▊               | 11/17 [02:09<01:11, 11.94s/it]\u001B[A\n",
      " 71%|██████████████████████████████▎            | 12/17 [02:10<00:43,  8.75s/it]\u001B[A\n",
      " 76%|████████████████████████████████▉          | 13/17 [02:11<00:25,  6.43s/it]\u001B[A\n",
      " 82%|███████████████████████████████████▍       | 14/17 [02:12<00:14,  4.69s/it]\u001B[A\n",
      " 88%|█████████████████████████████████████▉     | 15/17 [02:12<00:06,  3.47s/it]\u001B[A\n",
      " 94%|████████████████████████████████████████▍  | 16/17 [02:13<00:02,  2.64s/it]\u001B[A\n",
      "100%|███████████████████████████████████████████| 17/17 [02:14<00:00,  7.92s/it]\u001B[A\n",
      "1it [02:14, 134.59s/it]\n",
      "  0%|                                                    | 0/17 [00:00<?, ?it/s]\u001B[A\n",
      "  6%|██▌                                         | 1/17 [00:00<00:01,  9.66it/s]\u001B[A\n",
      " 12%|█████▏                                      | 2/17 [00:04<00:22,  1.48s/it]\u001B[A\n",
      " 18%|███████▊                                    | 3/17 [00:13<00:50,  3.59s/it]\u001B[A\n",
      " 24%|██████████▎                                 | 4/17 [00:20<01:01,  4.74s/it]\u001B[A\n",
      " 29%|████████████▉                               | 5/17 [00:27<01:05,  5.46s/it]\u001B[A\n",
      " 35%|███████████████▌                            | 6/17 [00:35<01:06,  6.01s/it]\u001B[A\n",
      " 41%|██████████████████                          | 7/17 [00:42<01:04,  6.41s/it]\u001B[A\n",
      " 47%|████████████████████▋                       | 8/17 [00:49<01:00,  6.71s/it]\u001B[A\n",
      " 53%|███████████████████████▎                    | 9/17 [00:57<00:55,  6.89s/it]\u001B[A\n",
      " 59%|█████████████████████████▎                 | 10/17 [01:03<00:46,  6.68s/it]\u001B[A\n",
      " 65%|███████████████████████████▊               | 11/17 [01:07<00:35,  5.97s/it]\u001B[A\n",
      " 71%|██████████████████████████████▎            | 12/17 [01:09<00:24,  4.81s/it]\u001B[A\n",
      " 76%|████████████████████████████████▉          | 13/17 [01:11<00:15,  3.80s/it]\u001B[A\n",
      " 82%|███████████████████████████████████▍       | 14/17 [01:12<00:09,  3.09s/it]\u001B[A\n",
      " 88%|█████████████████████████████████████▉     | 15/17 [01:13<00:04,  2.46s/it]\u001B[A\n",
      " 94%|████████████████████████████████████████▍  | 16/17 [01:14<00:01,  1.94s/it]\u001B[A\n",
      "100%|███████████████████████████████████████████| 17/17 [01:15<00:00,  4.43s/it]\u001B[A\n",
      "2it [03:29, 116.81s/it]\n",
      "  0%|                                                    | 0/17 [00:00<?, ?it/s]\u001B[A\n",
      " 12%|█████▏                                      | 2/17 [00:07<00:54,  3.64s/it]\u001B[A\n",
      " 18%|███████▊                                    | 3/17 [00:14<01:06,  4.76s/it]\u001B[A\n",
      " 24%|██████████▎                                 | 4/17 [00:22<01:12,  5.55s/it]\u001B[A\n",
      " 29%|████████████▉                               | 5/17 [00:29<01:13,  6.11s/it]\u001B[A\n",
      " 35%|███████████████▌                            | 6/17 [00:36<01:11,  6.47s/it]\u001B[A\n",
      " 41%|██████████████████                          | 7/17 [00:43<01:06,  6.70s/it]\u001B[A\n",
      " 47%|████████████████████▋                       | 8/17 [00:51<01:01,  6.85s/it]\u001B[A\n",
      " 53%|███████████████████████▎                    | 9/17 [00:58<00:56,  7.01s/it]\u001B[A\n",
      " 59%|█████████████████████████▎                 | 10/17 [01:05<00:49,  7.12s/it]\u001B[A\n",
      " 65%|███████████████████████████▊               | 11/17 [01:13<00:43,  7.22s/it]\u001B[A\n",
      " 71%|██████████████████████████████▎            | 12/17 [01:19<00:35,  7.03s/it]\u001B[A\n",
      " 76%|████████████████████████████████▉          | 13/17 [01:26<00:27,  6.77s/it]\u001B[A\n",
      " 82%|███████████████████████████████████▍       | 14/17 [01:30<00:18,  6.10s/it]\u001B[A\n",
      " 88%|█████████████████████████████████████▉     | 15/17 [01:34<00:10,  5.39s/it]\u001B[A\n",
      " 94%|████████████████████████████████████████▍  | 16/17 [01:37<00:04,  4.69s/it]\u001B[A\n",
      "100%|███████████████████████████████████████████| 17/17 [01:40<00:00,  5.89s/it]\u001B[A\n",
      "3it [05:10, 111.81s/it]\n",
      "  0%|                                                    | 0/17 [00:00<?, ?it/s]\u001B[A\n",
      " 12%|█████▏                                      | 2/17 [00:04<00:31,  2.08s/it]\u001B[A\n",
      " 18%|███████▊                                    | 3/17 [00:10<00:45,  3.23s/it]\u001B[A\n",
      " 24%|██████████▎                                 | 4/17 [00:16<00:54,  4.15s/it]\u001B[A\n",
      " 29%|████████████▉                               | 5/17 [00:29<01:22,  6.91s/it]\u001B[A\n",
      " 35%|███████████████▌                            | 6/17 [00:43<01:40,  9.10s/it]\u001B[A\n",
      " 41%|██████████████████                          | 7/17 [00:57<01:45, 10.57s/it]\u001B[A\n",
      " 47%|████████████████████▋                       | 8/17 [01:12<01:45, 11.71s/it]\u001B[A\n",
      " 53%|███████████████████████▎                    | 9/17 [01:21<01:28, 11.03s/it]\u001B[A\n",
      " 59%|█████████████████████████▎                 | 10/17 [01:30<01:11, 10.24s/it]\u001B[A\n",
      " 65%|███████████████████████████▊               | 11/17 [01:36<00:54,  9.12s/it]\u001B[A\n",
      " 71%|██████████████████████████████▎            | 12/17 [01:41<00:39,  7.89s/it]\u001B[A\n",
      " 76%|████████████████████████████████▉          | 13/17 [01:45<00:27,  6.78s/it]\u001B[A\n",
      " 82%|███████████████████████████████████▍       | 14/17 [01:49<00:17,  5.84s/it]\u001B[A\n",
      " 88%|█████████████████████████████████████▉     | 15/17 [01:52<00:09,  4.94s/it]\u001B[A\n",
      " 94%|████████████████████████████████████████▍  | 16/17 [01:54<00:04,  4.19s/it]\u001B[A\n",
      "100%|███████████████████████████████████████████| 17/17 [01:57<00:00,  6.88s/it]\u001B[A\n",
      "4it [07:07, 113.38s/it]\n",
      "  0%|                                                    | 0/17 [00:00<?, ?it/s]\u001B[A\n",
      " 12%|█████▏                                      | 2/17 [00:15<01:56,  7.75s/it]\u001B[A\n",
      " 18%|███████▊                                    | 3/17 [00:29<02:14,  9.58s/it]\u001B[A\n",
      " 24%|██████████▎                                 | 4/17 [00:44<02:26, 11.24s/it]\u001B[A\n",
      " 29%|████████████▉                               | 5/17 [00:54<02:09, 10.77s/it]\u001B[A\n",
      " 35%|███████████████▌                            | 6/17 [01:01<01:46,  9.72s/it]\u001B[A\n",
      " 41%|██████████████████                          | 7/17 [01:08<01:30,  9.03s/it]\u001B[A\n",
      " 47%|████████████████████▋                       | 8/17 [01:16<01:17,  8.57s/it]\u001B[A\n",
      " 53%|███████████████████████▎                    | 9/17 [01:21<01:00,  7.53s/it]\u001B[A\n",
      " 59%|█████████████████████████▎                 | 10/17 [01:25<00:44,  6.39s/it]\u001B[A\n",
      " 65%|███████████████████████████▊               | 11/17 [01:29<00:34,  5.81s/it]\u001B[A\n",
      " 71%|██████████████████████████████▎            | 12/17 [01:33<00:25,  5.16s/it]\u001B[A\n",
      " 76%|████████████████████████████████▉          | 13/17 [01:36<00:17,  4.47s/it]\u001B[A\n",
      " 82%|███████████████████████████████████▍       | 14/17 [01:39<00:12,  4.04s/it]\u001B[A\n",
      " 88%|█████████████████████████████████████▉     | 15/17 [01:41<00:07,  3.63s/it]\u001B[A\n",
      " 94%|████████████████████████████████████████▍  | 16/17 [01:44<00:03,  3.34s/it]\u001B[A\n",
      "100%|███████████████████████████████████████████| 17/17 [01:47<00:00,  6.32s/it]\u001B[A\n",
      "5it [08:54, 106.92s/it]\n"
     ]
    }
   ],
   "source": [
    "vanilla_cp_rew, vanilla_cp_error = train_and_evaluate(args, sweep_param, model_gen, n_iter=10)"
   ]
  },
  {
   "cell_type": "code",
   "execution_count": 13,
   "metadata": {},
   "outputs": [],
   "source": [
    "np.save(vanilla_cp_file_rew, vanilla_cp_rew)\n",
    "np.save(vanilla_cp_file_error, vanilla_cp_error)"
   ]
  },
  {
   "cell_type": "code",
   "execution_count": 14,
   "metadata": {},
   "outputs": [
    {
     "data": {
      "text/plain": [
       "array([[  2. , 222.4, 369.2, 414. , 424.1, 478.9, 499.3, 500. , 492.1,\n",
       "        454.8, 160.9,  58.4,  43.8,  40.2,  40.8,  43.5,  44. ],\n",
       "       [  2. , 281.8, 493.4, 498.1, 498.4, 499.4, 499. , 498.2, 492.1,\n",
       "        434.1, 286.3, 141.1, 102.6,  81.2,  72.6,  54.7,  54.9],\n",
       "       [  2. , 498.1, 500. , 500. , 500. , 500. , 500. , 500. , 500. ,\n",
       "        500. , 500. , 461.3, 420.5, 317.4, 247.7, 199. , 179.2],\n",
       "       [  2. , 277.5, 409.4, 419.4, 420.6, 436.9, 434.8, 437. , 296.5,\n",
       "        259.6, 194.6, 159.5, 128.8, 110.2,  82.3,  80.4,  64. ],\n",
       "       [  2. , 476.3, 434.1, 465.3, 489.8, 499.9, 499.6, 499.9, 340.6,\n",
       "        252.2, 293.8, 113.5,  85.5,  88.6,  85.5,  83.5,  86.9]])"
      ]
     },
     "execution_count": 14,
     "metadata": {},
     "output_type": "execute_result"
    }
   ],
   "source": [
    "vanilla_cp_rew"
   ]
  },
  {
   "cell_type": "markdown",
   "metadata": {},
   "source": [
    "# R2 DDQN cartpole evaluation"
   ]
  },
  {
   "cell_type": "code",
   "execution_count": 16,
   "metadata": {},
   "outputs": [],
   "source": [
    "model_subfolder = 'R2_cartpole_reduleLR_scheduler1_5e5_ema'\n",
    "model_name = os.listdir(os.path.abspath(os.path.join('dqn', 'model', model_subfolder)))\n",
    "model_gen = LoadModel(args, subfolder=model_subfolder, model_name=model_name)"
   ]
  },
  {
   "cell_type": "code",
   "execution_count": 17,
   "metadata": {},
   "outputs": [
    {
     "name": "stderr",
     "output_type": "stream",
     "text": [
      "0it [00:00, ?it/s]\n",
      "  0%|                                                    | 0/17 [00:00<?, ?it/s]\u001B[A\n",
      " 12%|█████▏                                      | 2/17 [00:00<00:02,  6.52it/s]\u001B[A\n",
      " 18%|███████▊                                    | 3/17 [00:05<00:22,  1.63s/it]\u001B[A\n",
      " 24%|██████████▎                                 | 4/17 [00:10<00:34,  2.65s/it]\u001B[A\n",
      " 29%|████████████▉                               | 5/17 [00:22<01:05,  5.50s/it]\u001B[A\n",
      " 35%|███████████████▌                            | 6/17 [00:37<01:31,  8.29s/it]\u001B[A\n",
      " 41%|██████████████████                          | 7/17 [00:51<01:41, 10.18s/it]\u001B[A\n",
      " 47%|████████████████████▋                       | 8/17 [01:06<01:43, 11.51s/it]\u001B[A\n",
      " 53%|███████████████████████▎                    | 9/17 [01:22<01:41, 12.71s/it]\u001B[A\n",
      " 59%|█████████████████████████▎                 | 10/17 [01:38<01:36, 13.76s/it]\u001B[A\n",
      " 65%|███████████████████████████▊               | 11/17 [01:54<01:26, 14.49s/it]\u001B[A\n",
      " 71%|██████████████████████████████▎            | 12/17 [02:10<01:14, 14.95s/it]\u001B[A\n",
      " 76%|████████████████████████████████▉          | 13/17 [02:20<00:53, 13.46s/it]\u001B[A\n",
      " 82%|███████████████████████████████████▍       | 14/17 [02:28<00:35, 11.89s/it]\u001B[A\n",
      " 88%|█████████████████████████████████████▉     | 15/17 [02:37<00:21, 10.82s/it]\u001B[A\n",
      " 94%|████████████████████████████████████████▍  | 16/17 [02:42<00:09,  9.13s/it]\u001B[A\n",
      "100%|███████████████████████████████████████████| 17/17 [02:46<00:00,  9.80s/it]\u001B[A\n",
      "1it [02:46, 166.56s/it]\n",
      "  0%|                                                    | 0/17 [00:00<?, ?it/s]\u001B[A\n",
      " 12%|█████▏                                      | 2/17 [00:13<01:38,  6.57s/it]\u001B[A\n",
      " 18%|███████▊                                    | 3/17 [00:29<02:12,  9.48s/it]\u001B[A\n",
      " 24%|██████████▎                                 | 4/17 [00:45<02:29, 11.51s/it]\u001B[A\n",
      " 29%|████████████▉                               | 5/17 [01:02<02:36, 13.03s/it]\u001B[A\n",
      " 35%|███████████████▌                            | 6/17 [01:18<02:33, 13.98s/it]\u001B[A\n",
      " 41%|██████████████████                          | 7/17 [01:34<02:26, 14.66s/it]\u001B[A\n",
      " 47%|████████████████████▋                       | 8/17 [01:50<02:15, 15.10s/it]\u001B[A\n",
      " 53%|███████████████████████▎                    | 9/17 [02:06<02:03, 15.40s/it]\u001B[A\n",
      " 59%|█████████████████████████▎                 | 10/17 [02:23<01:49, 15.61s/it]\u001B[A\n",
      " 65%|███████████████████████████▊               | 11/17 [02:34<01:26, 14.46s/it]\u001B[A\n",
      " 71%|██████████████████████████████▎            | 12/17 [02:43<01:03, 12.75s/it]\u001B[A\n",
      " 76%|████████████████████████████████▉          | 13/17 [02:50<00:44, 11.07s/it]\u001B[A\n",
      " 82%|███████████████████████████████████▍       | 14/17 [02:56<00:28,  9.58s/it]\u001B[A\n",
      " 88%|█████████████████████████████████████▉     | 15/17 [03:02<00:16,  8.47s/it]\u001B[A\n",
      " 94%|████████████████████████████████████████▍  | 16/17 [03:07<00:07,  7.53s/it]\u001B[A\n",
      "100%|███████████████████████████████████████████| 17/17 [03:13<00:00, 11.36s/it]\u001B[A\n",
      "2it [05:59, 174.52s/it]\n",
      "  0%|                                                    | 0/17 [00:00<?, ?it/s]\u001B[A\n",
      " 12%|█████▏                                      | 2/17 [00:10<01:20,  5.34s/it]\u001B[A\n",
      " 18%|███████▊                                    | 3/17 [00:18<01:23,  5.98s/it]\u001B[A\n",
      " 24%|██████████▎                                 | 4/17 [00:25<01:23,  6.42s/it]\u001B[A\n",
      " 29%|████████████▉                               | 5/17 [00:33<01:20,  6.72s/it]\u001B[A\n",
      " 35%|███████████████▌                            | 6/17 [00:48<01:44,  9.46s/it]\u001B[A\n",
      " 41%|██████████████████                          | 7/17 [01:05<01:54, 11.47s/it]\u001B[A\n",
      " 47%|████████████████████▋                       | 8/17 [01:21<01:55, 12.85s/it]\u001B[A\n",
      " 53%|███████████████████████▎                    | 9/17 [01:37<01:50, 13.79s/it]\u001B[A\n",
      " 59%|█████████████████████████▎                 | 10/17 [01:52<01:39, 14.22s/it]\u001B[A\n",
      " 65%|███████████████████████████▊               | 11/17 [02:07<01:26, 14.44s/it]\u001B[A\n",
      " 71%|██████████████████████████████▎            | 12/17 [02:14<01:01, 12.32s/it]\u001B[A\n",
      " 76%|████████████████████████████████▉          | 13/17 [02:17<00:38,  9.54s/it]\u001B[A\n",
      " 82%|███████████████████████████████████▍       | 14/17 [02:20<00:22,  7.57s/it]\u001B[A\n",
      " 88%|█████████████████████████████████████▉     | 15/17 [02:23<00:12,  6.09s/it]\u001B[A\n",
      " 94%|████████████████████████████████████████▍  | 16/17 [02:25<00:05,  5.03s/it]\u001B[A\n",
      "100%|███████████████████████████████████████████| 17/17 [02:28<00:00,  8.75s/it]\u001B[A\n",
      "3it [08:28, 166.77s/it]\n",
      "  0%|                                                    | 0/17 [00:00<?, ?it/s]\u001B[A\n",
      " 12%|█████▏                                      | 2/17 [00:08<01:01,  4.08s/it]\u001B[A\n",
      " 18%|███████▊                                    | 3/17 [00:24<01:47,  7.70s/it]\u001B[A\n",
      " 24%|██████████▎                                 | 4/17 [00:33<01:44,  8.01s/it]\u001B[A\n",
      " 29%|████████████▉                               | 5/17 [00:40<01:34,  7.85s/it]\u001B[A\n",
      " 35%|███████████████▌                            | 6/17 [00:47<01:25,  7.74s/it]\u001B[A\n",
      " 41%|██████████████████                          | 7/17 [00:55<01:16,  7.66s/it]\u001B[A\n",
      " 47%|████████████████████▋                       | 8/17 [01:02<01:08,  7.56s/it]\u001B[A\n",
      " 53%|███████████████████████▎                    | 9/17 [01:10<00:59,  7.48s/it]\u001B[A\n",
      " 59%|█████████████████████████▎                 | 10/17 [01:14<00:45,  6.47s/it]\u001B[A\n",
      " 65%|███████████████████████████▊               | 11/17 [01:16<00:31,  5.31s/it]\u001B[A\n",
      " 71%|██████████████████████████████▎            | 12/17 [01:19<00:22,  4.45s/it]\u001B[A\n",
      " 76%|████████████████████████████████▉          | 13/17 [01:20<00:14,  3.51s/it]\u001B[A\n",
      " 82%|███████████████████████████████████▍       | 14/17 [01:22<00:08,  2.91s/it]\u001B[A\n",
      " 88%|█████████████████████████████████████▉     | 15/17 [01:23<00:04,  2.49s/it]\u001B[A\n",
      " 94%|████████████████████████████████████████▍  | 16/17 [01:24<00:02,  2.13s/it]\u001B[A\n",
      "100%|███████████████████████████████████████████| 17/17 [01:26<00:00,  5.10s/it]\u001B[A\n",
      "4it [09:55, 142.74s/it]\n",
      "  0%|                                                    | 0/17 [00:00<?, ?it/s]\u001B[A\n",
      " 12%|█████▏                                      | 2/17 [00:02<00:21,  1.41s/it]\u001B[A\n",
      " 18%|███████▊                                    | 3/17 [00:10<00:44,  3.17s/it]\u001B[A\n",
      " 24%|██████████▎                                 | 4/17 [00:17<00:57,  4.44s/it]\u001B[A\n",
      " 29%|████████████▉                               | 5/17 [00:24<01:04,  5.34s/it]\u001B[A\n",
      " 35%|███████████████▌                            | 6/17 [00:32<01:05,  5.98s/it]\u001B[A\n",
      " 41%|██████████████████                          | 7/17 [00:39<01:03,  6.39s/it]\u001B[A\n",
      " 47%|████████████████████▋                       | 8/17 [00:47<01:01,  6.82s/it]\u001B[A\n",
      " 53%|███████████████████████▎                    | 9/17 [00:53<00:52,  6.56s/it]\u001B[A\n",
      " 59%|█████████████████████████▎                 | 10/17 [00:54<00:33,  4.84s/it]\u001B[A\n",
      " 65%|███████████████████████████▊               | 11/17 [00:55<00:23,  3.85s/it]\u001B[A\n",
      " 71%|██████████████████████████████▎            | 12/17 [00:57<00:15,  3.05s/it]\u001B[A\n",
      " 76%|████████████████████████████████▉          | 13/17 [00:58<00:10,  2.54s/it]\u001B[A\n",
      " 82%|███████████████████████████████████▍       | 14/17 [01:00<00:06,  2.32s/it]\u001B[A\n",
      " 88%|█████████████████████████████████████▉     | 15/17 [01:01<00:04,  2.07s/it]\u001B[A\n",
      " 94%|████████████████████████████████████████▍  | 16/17 [01:03<00:02,  2.04s/it]\u001B[A\n",
      "100%|███████████████████████████████████████████| 17/17 [01:05<00:00,  3.85s/it]\u001B[A\n",
      "5it [11:00, 132.11s/it]\n"
     ]
    }
   ],
   "source": [
    "r2_cp_rew, r2_cp_error = train_and_evaluate(args, sweep_param, model_gen, n_iter=10)"
   ]
  },
  {
   "cell_type": "code",
   "execution_count": 18,
   "metadata": {},
   "outputs": [],
   "source": [
    "np.save(r2_cp_file_rew, r2_cp_rew)\n",
    "np.save(r2_cp_file_error, r2_cp_error)"
   ]
  },
  {
   "cell_type": "code",
   "execution_count": 19,
   "metadata": {},
   "outputs": [
    {
     "data": {
      "text/plain": [
       "array([[  2. ,  26.1, 500. , 500. , 500. , 500. , 500. , 500. , 500. ,\n",
       "        500. , 500. , 493. , 312.4, 251.8, 255.4, 158.6, 134.7],\n",
       "       [  2. , 404.9, 500. , 500. , 500. , 500. , 500. , 500. , 500. ,\n",
       "        494.1, 358.3, 272.7, 217.2, 191.6, 177.1, 168.3, 153.6],\n",
       "       [  2. , 331.1, 500. , 500. , 500. , 500. , 500. , 500. , 496.3,\n",
       "        467.8, 463.7, 229.3,  94.3,  86.3,  82.5,  82. ,  80.6],\n",
       "       [  2. , 249.7, 500. , 500. , 500. , 500. , 500. , 500. , 500. ,\n",
       "        275.6, 185. , 147.2, 104.3,  93.6,  93.2,  98.2, 104.6],\n",
       "       [  2. , 199.3, 498.4, 500. , 500. , 500. , 500. , 500. , 413.7,\n",
       "         55. ,  41.1,  38.7,  42.4,  47.4,  50.3,  54.6,  58.3]])"
      ]
     },
     "execution_count": 19,
     "metadata": {},
     "output_type": "execute_result"
    }
   ],
   "source": [
    "r2_cp_rew"
   ]
  },
  {
   "cell_type": "markdown",
   "metadata": {},
   "source": [
    "# Robust DDQN cartpole evaluation"
   ]
  },
  {
   "cell_type": "code",
   "execution_count": 20,
   "metadata": {},
   "outputs": [],
   "source": [
    "model_subfolder = 'ro_cartpole_sweep'\n",
    "model_name = os.listdir(os.path.abspath(os.path.join('dqn', 'model', model_subfolder)))\n",
    "model_gen = LoadModel(args, subfolder=model_subfolder, model_name=model_name)"
   ]
  },
  {
   "cell_type": "code",
   "execution_count": 21,
   "metadata": {},
   "outputs": [
    {
     "name": "stderr",
     "output_type": "stream",
     "text": [
      "0it [00:00, ?it/s]\n",
      "  0%|                                                    | 0/17 [00:00<?, ?it/s]\u001B[A\n",
      " 12%|█████▏                                      | 2/17 [00:06<00:48,  3.21s/it]\u001B[A\n",
      " 18%|███████▊                                    | 3/17 [00:15<01:09,  4.99s/it]\u001B[A\n",
      " 24%|██████████▎                                 | 4/17 [00:23<01:15,  5.82s/it]\u001B[A\n",
      " 29%|████████████▉                               | 5/17 [00:30<01:15,  6.31s/it]\u001B[A\n",
      " 35%|███████████████▌                            | 6/17 [00:38<01:13,  6.64s/it]\u001B[A\n",
      " 41%|██████████████████                          | 7/17 [00:45<01:08,  6.82s/it]\u001B[A\n",
      " 47%|████████████████████▋                       | 8/17 [00:52<01:02,  6.94s/it]\u001B[A\n",
      " 53%|███████████████████████▎                    | 9/17 [00:59<00:56,  7.05s/it]\u001B[A\n",
      " 59%|█████████████████████████▎                 | 10/17 [01:02<00:40,  5.84s/it]\u001B[A\n",
      " 65%|███████████████████████████▊               | 11/17 [01:03<00:25,  4.30s/it]\u001B[A\n",
      " 71%|██████████████████████████████▎            | 12/17 [01:04<00:16,  3.29s/it]\u001B[A\n",
      " 76%|████████████████████████████████▉          | 13/17 [01:05<00:10,  2.66s/it]\u001B[A\n",
      " 82%|███████████████████████████████████▍       | 14/17 [01:06<00:06,  2.19s/it]\u001B[A\n",
      " 88%|█████████████████████████████████████▉     | 15/17 [01:08<00:03,  1.90s/it]\u001B[A\n",
      " 94%|████████████████████████████████████████▍  | 16/17 [01:09<00:01,  1.84s/it]\u001B[A\n",
      "100%|███████████████████████████████████████████| 17/17 [01:11<00:00,  4.18s/it]\u001B[A\n",
      "1it [01:11, 71.08s/it]\n",
      "  0%|                                                    | 0/17 [00:00<?, ?it/s]\u001B[A\n",
      " 12%|█████▏                                      | 2/17 [00:07<00:55,  3.71s/it]\u001B[A\n",
      " 18%|███████▊                                    | 3/17 [00:14<01:07,  4.82s/it]\u001B[A\n",
      " 24%|██████████▎                                 | 4/17 [00:22<01:11,  5.53s/it]\u001B[A\n",
      " 29%|████████████▉                               | 5/17 [00:29<01:12,  6.02s/it]\u001B[A\n",
      " 35%|███████████████▌                            | 6/17 [00:36<01:10,  6.40s/it]\u001B[A\n",
      " 41%|██████████████████                          | 7/17 [00:43<01:07,  6.70s/it]\u001B[A\n",
      " 47%|████████████████████▋                       | 8/17 [00:51<01:02,  6.92s/it]\u001B[A\n",
      " 53%|███████████████████████▎                    | 9/17 [00:58<00:56,  7.09s/it]\u001B[A\n",
      " 59%|█████████████████████████▎                 | 10/17 [01:03<00:44,  6.31s/it]\u001B[A\n",
      " 65%|███████████████████████████▊               | 11/17 [01:07<00:33,  5.62s/it]\u001B[A\n",
      " 71%|██████████████████████████████▎            | 12/17 [01:11<00:25,  5.07s/it]\u001B[A\n",
      " 76%|████████████████████████████████▉          | 13/17 [01:14<00:18,  4.64s/it]\u001B[A\n",
      " 82%|███████████████████████████████████▍       | 14/17 [01:17<00:12,  4.20s/it]\u001B[A\n",
      " 88%|█████████████████████████████████████▉     | 15/17 [01:20<00:07,  3.75s/it]\u001B[A\n",
      " 94%|████████████████████████████████████████▍  | 16/17 [01:22<00:03,  3.31s/it]\u001B[A\n",
      "100%|███████████████████████████████████████████| 17/17 [01:24<00:00,  4.95s/it]\u001B[A\n",
      "2it [02:35, 75.01s/it]\n",
      "  0%|                                                    | 0/17 [00:00<?, ?it/s]\u001B[A\n",
      " 12%|█████▏                                      | 2/17 [00:06<00:48,  3.27s/it]\u001B[A\n",
      " 18%|███████▊                                    | 3/17 [00:13<01:02,  4.44s/it]\u001B[A\n",
      " 24%|██████████▎                                 | 4/17 [00:20<01:07,  5.19s/it]\u001B[A\n",
      " 29%|████████████▉                               | 5/17 [00:27<01:08,  5.71s/it]\u001B[A\n",
      " 35%|███████████████▌                            | 6/17 [00:34<01:06,  6.07s/it]\u001B[A\n",
      " 41%|██████████████████                          | 7/17 [00:40<01:00,  6.10s/it]\u001B[A\n",
      " 47%|████████████████████▋                       | 8/17 [00:46<00:55,  6.15s/it]\u001B[A\n",
      " 53%|███████████████████████▎                    | 9/17 [00:52<00:47,  5.94s/it]\u001B[A\n",
      " 59%|█████████████████████████▎                 | 10/17 [00:57<00:40,  5.74s/it]\u001B[A\n",
      " 65%|███████████████████████████▊               | 11/17 [01:02<00:32,  5.46s/it]\u001B[A\n",
      " 71%|██████████████████████████████▎            | 12/17 [01:06<00:25,  5.11s/it]\u001B[A\n",
      " 76%|████████████████████████████████▉          | 13/17 [01:10<00:19,  4.83s/it]\u001B[A\n",
      " 82%|███████████████████████████████████▍       | 14/17 [01:14<00:13,  4.52s/it]\u001B[A\n",
      " 88%|█████████████████████████████████████▉     | 15/17 [01:18<00:08,  4.26s/it]\u001B[A\n",
      " 94%|████████████████████████████████████████▍  | 16/17 [01:22<00:04,  4.08s/it]\u001B[A\n",
      "100%|███████████████████████████████████████████| 17/17 [01:25<00:00,  5.03s/it]\u001B[A\n",
      "3it [04:00, 78.19s/it]\n",
      "  0%|                                                    | 0/17 [00:00<?, ?it/s]\u001B[A\n",
      " 12%|█████▏                                      | 2/17 [00:00<00:02,  5.62it/s]\u001B[A\n",
      " 18%|███████▊                                    | 3/17 [00:07<00:32,  2.29s/it]\u001B[A\n",
      " 24%|██████████▎                                 | 4/17 [00:14<00:48,  3.75s/it]\u001B[A\n",
      " 29%|████████████▉                               | 5/17 [00:21<00:57,  4.79s/it]\u001B[A\n",
      " 35%|███████████████▌                            | 6/17 [00:29<01:01,  5.58s/it]\u001B[A\n",
      " 41%|██████████████████                          | 7/17 [00:36<01:01,  6.14s/it]\u001B[A\n",
      " 47%|████████████████████▋                       | 8/17 [00:44<00:58,  6.51s/it]\u001B[A\n",
      " 53%|███████████████████████▎                    | 9/17 [00:49<00:50,  6.29s/it]\u001B[A\n",
      " 59%|█████████████████████████▎                 | 10/17 [00:51<00:34,  4.93s/it]\u001B[A\n",
      " 65%|███████████████████████████▊               | 11/17 [00:53<00:23,  3.84s/it]\u001B[A\n",
      " 71%|██████████████████████████████▎            | 12/17 [00:54<00:15,  3.11s/it]\u001B[A\n",
      " 76%|████████████████████████████████▉          | 13/17 [00:56<00:10,  2.71s/it]\u001B[A\n",
      " 82%|███████████████████████████████████▍       | 14/17 [00:57<00:06,  2.28s/it]\u001B[A\n",
      " 88%|█████████████████████████████████████▉     | 15/17 [00:59<00:04,  2.09s/it]\u001B[A\n",
      " 94%|████████████████████████████████████████▍  | 16/17 [01:00<00:01,  1.92s/it]\u001B[A\n",
      "100%|███████████████████████████████████████████| 17/17 [01:01<00:00,  3.64s/it]\u001B[A\n",
      "4it [05:02, 73.28s/it]\n",
      "  0%|                                                    | 0/17 [00:00<?, ?it/s]\u001B[A\n",
      " 12%|█████▏                                      | 2/17 [00:05<00:41,  2.74s/it]\u001B[A\n",
      " 18%|███████▊                                    | 3/17 [00:12<00:57,  4.08s/it]\u001B[A\n",
      " 24%|██████████▎                                 | 4/17 [00:20<01:06,  5.11s/it]\u001B[A\n",
      " 29%|████████████▉                               | 5/17 [00:27<01:09,  5.80s/it]\u001B[A\n",
      " 35%|███████████████▌                            | 6/17 [00:35<01:09,  6.29s/it]\u001B[A\n",
      " 41%|██████████████████                          | 7/17 [00:42<01:06,  6.63s/it]\u001B[A\n",
      " 47%|████████████████████▋                       | 8/17 [00:49<01:01,  6.86s/it]\u001B[A\n",
      " 53%|███████████████████████▎                    | 9/17 [00:57<00:55,  6.98s/it]\u001B[A\n",
      " 59%|█████████████████████████▎                 | 10/17 [01:04<00:49,  7.08s/it]\u001B[A\n",
      " 65%|███████████████████████████▊               | 11/17 [01:11<00:41,  6.94s/it]\u001B[A\n",
      " 71%|██████████████████████████████▎            | 12/17 [01:20<00:38,  7.72s/it]\u001B[A\n",
      " 76%|████████████████████████████████▉          | 13/17 [01:24<00:26,  6.56s/it]\u001B[A\n",
      " 82%|███████████████████████████████████▍       | 14/17 [01:28<00:17,  5.69s/it]\u001B[A\n",
      " 88%|█████████████████████████████████████▉     | 15/17 [01:32<00:10,  5.25s/it]\u001B[A\n",
      " 94%|████████████████████████████████████████▍  | 16/17 [01:36<00:04,  4.94s/it]\u001B[A\n",
      "100%|███████████████████████████████████████████| 17/17 [01:41<00:00,  5.94s/it]\u001B[A\n",
      "5it [06:43, 80.75s/it]\n"
     ]
    }
   ],
   "source": [
    "robust_cp_rew, robust_cp_error = train_and_evaluate(args, sweep_param, model_gen, n_iter=10)"
   ]
  },
  {
   "cell_type": "code",
   "execution_count": 22,
   "metadata": {},
   "outputs": [],
   "source": [
    "np.save(robust_cp_file_rew, robust_cp_rew)\n",
    "np.save(robust_cp_file_error, robust_cp_error)"
   ]
  },
  {
   "cell_type": "markdown",
   "metadata": {},
   "source": [
    "# Load data"
   ]
  },
  {
   "cell_type": "code",
   "execution_count": 165,
   "metadata": {},
   "outputs": [],
   "source": [
    "vanilla_cp_rew = np.load(vanilla_cp_file_rew)\n",
    "vanilla_cp_error = np.load(vanilla_cp_file_error)"
   ]
  },
  {
   "cell_type": "code",
   "execution_count": 166,
   "metadata": {},
   "outputs": [],
   "source": [
    "r2_cp_rew = np.load(r2_cp_file_rew)\n",
    "r2_cp_error = np.load(r2_cp_file_error)"
   ]
  },
  {
   "cell_type": "code",
   "execution_count": 167,
   "metadata": {},
   "outputs": [],
   "source": [
    "robust_cp_rew = np.load(robust_cp_file_rew)\n",
    "robust_cp_error = np.load(robust_cp_file_error)"
   ]
  },
  {
   "cell_type": "code",
   "execution_count": 169,
   "metadata": {},
   "outputs": [
    {
     "data": {
      "text/plain": [
       "<Figure size 640x480 with 0 Axes>"
      ]
     },
     "metadata": {},
     "output_type": "display_data"
    },
    {
     "data": {
      "image/png": "[encoded data removed]",
      "text/plain": [
       "<Figure size 1200x600 with 1 Axes>"
      ]
     },
     "metadata": {},
     "output_type": "display_data"
    }
   ],
   "source": [
    "plt.clf()\n",
    "fontsize = 20\n",
    "fig, ax = plt.subplots(figsize=(12, 6))\n",
    "\n",
    "vanilla_cp_mean = np.mean(vanilla_cp_rew, axis=0)\n",
    "vanilla_cp_std = np.std(vanilla_cp_rew, axis=0)\n",
    "\n",
    "r2_cp_mean = np.mean(r2_cp_rew, axis=0)\n",
    "r2_cp_std = np.std(r2_cp_rew, axis=0)\n",
    "\n",
    "robust_cp_mean = np.mean(robust_cp_rew, axis=0)\n",
    "robust_cp_std = np.std(robust_cp_rew, axis=0)\n",
    "\n",
    "ax.plot(sweep_vector, vanilla_cp_mean,'b', label='Vanilla') \n",
    "ax.fill_between(sweep_vector, vanilla_cp_mean-vanilla_cp_std, vanilla_cp_mean+vanilla_cp_std, alpha=0.3)\n",
    "ax.plot(sweep_vector, r2_cp_mean,'r', label='R2') \n",
    "ax.fill_between(sweep_vector, r2_cp_mean-r2_cp_std, r2_cp_mean+r2_cp_std, alpha=0.3)\n",
    "\n",
    "ax.plot(sweep_vector, robust_cp_mean,'g', label='Robust')\n",
    "ax.fill_between(sweep_vector, robust_cp_mean-robust_cp_std, robust_cp_mean+robust_cp_std, alpha=0.3)\n",
    "\n",
    "    \n",
    "ax.invert_xaxis()\n",
    "ax.set_xlabel('Pole Length', fontsize=fontsize)\n",
    "# ax.set_ylabel('Reward', fontsize=fontsize)\n",
    "ax.set_title('Cartpole', fontweight=\"bold\", fontsize=fontsize)\n",
    "ax.set_yticks(range(0,600,100))\n",
    "ax.set_ylim([0, 600])\n",
    "# ax.set_xlim(np.min(sweep_vector),np.max(sweep_vector))\n",
    "ax.set_xlim(np.min(sweep_vector), 2)\n",
    "plt.axvline(x=0.5, c='black')\n",
    "ax.tick_params(axis='both', labelsize=fontsize)\n",
    "\n",
    "frame1 = plt.gca()\n",
    "frame1.axes.yaxis.set_ticklabels([])\n",
    "\n",
    "ax.grid(True)\n",
    "ax.legend(prop={'size': fontsize})\n",
    "plt.savefig(os.path.abspath('../plots/cartpole_pole_len_full_mean.png'))"
   ]
  },
  {
   "cell_type": "markdown",
   "metadata": {
    "tags": []
   },
   "source": [
    "# Cartpole Masspole"
   ]
  },
  {
   "cell_type": "code",
   "execution_count": 170,
   "metadata": {},
   "outputs": [],
   "source": [
    "sweep_str = 'masspole'\n",
    "sweep_vector = get_sweep_params(0, sweep_str)\n",
    "sweep_param = [sweep_vector, sweep_str]"
   ]
  },
  {
   "cell_type": "code",
   "execution_count": 171,
   "metadata": {},
   "outputs": [],
   "source": [
    "file_end = '.npy'\n",
    "vanilla_cp_file_rew = temp_vanilla_cp_file_rew + sweep_str + file_end\n",
    "vanilla_cp_file_error = temp_vanilla_cp_file_error + sweep_str + file_end\n",
    "\n",
    "r2_cp_file_rew = temp_r2_cp_file_rew + sweep_str + file_end\n",
    "r2_cp_file_error = temp_r2_cp_file_error + sweep_str + file_end\n",
    "\n",
    "robust_cp_file_rew = temp_robust_cp_file_rew + sweep_str + file_end\n",
    "robust_cp_file_error = temp_robust_cp_file_error + sweep_str + file_end"
   ]
  },
  {
   "cell_type": "markdown",
   "metadata": {},
   "source": [
    "# Vanilla DDQN cartpole evaluation"
   ]
  },
  {
   "cell_type": "code",
   "execution_count": 28,
   "metadata": {},
   "outputs": [],
   "source": [
    "model_subfolder = 'vanilla_cartpole_reduleLR_scheduler1_5e5_ema'\n",
    "model_name = os.listdir(os.path.abspath(os.path.join('dqn', 'model', model_subfolder)))\n",
    "model_gen = LoadModel(args, subfolder=model_subfolder, model_name=model_name)"
   ]
  },
  {
   "cell_type": "code",
   "execution_count": 29,
   "metadata": {},
   "outputs": [
    {
     "name": "stderr",
     "output_type": "stream",
     "text": [
      "0it [00:00, ?it/s]\n",
      "  0%|                                                    | 0/16 [00:00<?, ?it/s]\u001B[A\n",
      "  6%|██▊                                         | 1/16 [00:05<01:16,  5.07s/it]\u001B[A\n",
      " 12%|█████▌                                      | 2/16 [00:10<01:11,  5.07s/it]\u001B[A\n",
      " 19%|████████▎                                   | 3/16 [00:15<01:05,  5.07s/it]\u001B[A\n",
      " 25%|███████████                                 | 4/16 [00:21<01:04,  5.36s/it]\u001B[A\n",
      " 31%|█████████████▊                              | 5/16 [00:27<01:02,  5.67s/it]\u001B[A\n",
      " 38%|████████████████▌                           | 6/16 [00:40<01:18,  7.83s/it]\u001B[A\n",
      " 44%|███████████████████▎                        | 7/16 [00:50<01:17,  8.57s/it]\u001B[A\n",
      " 50%|██████████████████████                      | 8/16 [01:01<01:14,  9.35s/it]\u001B[A\n",
      " 56%|████████████████████████▊                   | 9/16 [01:13<01:09,  9.90s/it]\u001B[A\n",
      " 62%|██████████████████████████▉                | 10/16 [01:13<00:41,  6.97s/it]\u001B[A\n",
      " 69%|█████████████████████████████▌             | 11/16 [01:13<00:24,  4.91s/it]\u001B[A\n",
      " 81%|██████████████████████████████████▉        | 13/16 [01:13<00:10,  3.49s/it]\u001B[A\n",
      " 88%|█████████████████████████████████████▋     | 14/16 [01:14<00:05,  2.55s/it]\u001B[A\n",
      " 94%|████████████████████████████████████████▎  | 15/16 [01:14<00:01,  1.91s/it]\u001B[A\n",
      "100%|███████████████████████████████████████████| 16/16 [01:14<00:00,  4.69s/it]\u001B[A\n",
      "1it [01:15, 75.05s/it]\n",
      "  0%|                                                    | 0/16 [00:00<?, ?it/s]\u001B[A\n",
      "  6%|██▊                                         | 1/16 [00:14<03:33, 14.26s/it]\u001B[A\n",
      " 12%|█████▌                                      | 2/16 [00:30<03:26, 14.72s/it]\u001B[A\n",
      " 19%|████████▎                                   | 3/16 [00:46<03:17, 15.17s/it]\u001B[A\n",
      " 25%|███████████                                 | 4/16 [01:02<03:06, 15.50s/it]\u001B[A\n",
      " 31%|█████████████▊                              | 5/16 [01:18<02:53, 15.75s/it]\u001B[A\n",
      " 38%|████████████████▌                           | 6/16 [01:35<02:39, 15.97s/it]\u001B[A\n",
      " 44%|███████████████████▎                        | 7/16 [01:51<02:24, 16.02s/it]\u001B[A\n",
      " 50%|██████████████████████                      | 8/16 [02:07<02:07, 16.00s/it]\u001B[A\n",
      " 56%|████████████████████████▊                   | 9/16 [02:21<01:48, 15.49s/it]\u001B[A\n",
      " 62%|██████████████████████████▉                | 10/16 [02:21<01:05, 10.91s/it]\u001B[A\n",
      " 69%|█████████████████████████████▌             | 11/16 [02:22<00:38,  7.67s/it]\u001B[A\n",
      " 81%|██████████████████████████████████▉        | 13/16 [02:22<00:16,  5.43s/it]\u001B[A\n",
      " 88%|█████████████████████████████████████▋     | 14/16 [02:22<00:07,  3.93s/it]\u001B[A\n",
      " 94%|████████████████████████████████████████▎  | 15/16 [02:23<00:02,  2.90s/it]\u001B[A\n",
      "100%|███████████████████████████████████████████| 16/16 [02:24<00:00,  9.00s/it]\u001B[A\n",
      "2it [03:39, 95.75s/it]\n",
      "  0%|                                                    | 0/16 [00:00<?, ?it/s]\u001B[A\n",
      "  6%|██▊                                         | 1/16 [00:16<04:02, 16.14s/it]\u001B[A\n",
      " 12%|█████▌                                      | 2/16 [00:32<03:45, 16.11s/it]\u001B[A\n",
      " 19%|████████▎                                   | 3/16 [00:48<03:29, 16.10s/it]\u001B[A\n",
      " 25%|███████████                                 | 4/16 [01:04<03:13, 16.09s/it]\u001B[A\n",
      " 31%|█████████████▊                              | 5/16 [01:20<02:57, 16.10s/it]\u001B[A\n",
      " 38%|████████████████▌                           | 6/16 [01:36<02:41, 16.10s/it]\u001B[A\n",
      " 44%|███████████████████▎                        | 7/16 [01:52<02:24, 16.11s/it]\u001B[A\n",
      " 50%|██████████████████████                      | 8/16 [02:08<02:08, 16.10s/it]\u001B[A\n",
      " 56%|████████████████████████▊                   | 9/16 [02:24<01:52, 16.11s/it]\u001B[A\n",
      " 62%|██████████████████████████▉                | 10/16 [02:25<01:08, 11.44s/it]\u001B[A\n",
      " 69%|█████████████████████████████▌             | 11/16 [02:25<00:40,  8.04s/it]\u001B[A\n",
      " 75%|████████████████████████████████▎          | 12/16 [02:25<00:22,  5.66s/it]\u001B[A\n",
      " 81%|██████████████████████████████████▉        | 13/16 [02:25<00:12,  4.06s/it]\u001B[A\n",
      " 88%|█████████████████████████████████████▋     | 14/16 [02:26<00:05,  2.96s/it]\u001B[A\n",
      " 94%|████████████████████████████████████████▎  | 15/16 [02:26<00:02,  2.22s/it]\u001B[A\n",
      "100%|███████████████████████████████████████████| 16/16 [02:27<00:00,  9.22s/it]\u001B[A\n",
      "3it [06:06, 111.26s/it]\n",
      "  0%|                                                    | 0/16 [00:00<?, ?it/s]\u001B[A\n",
      "  6%|██▊                                         | 1/16 [00:14<03:30, 14.01s/it]\u001B[A\n",
      " 12%|█████▌                                      | 2/16 [00:28<03:19, 14.22s/it]\u001B[A\n",
      " 19%|████████▎                                   | 3/16 [00:43<03:05, 14.28s/it]\u001B[A\n",
      " 25%|███████████                                 | 4/16 [00:57<02:50, 14.19s/it]\u001B[A\n",
      " 31%|█████████████▊                              | 5/16 [01:11<02:36, 14.20s/it]\u001B[A\n",
      " 38%|████████████████▌                           | 6/16 [01:24<02:19, 14.00s/it]\u001B[A\n",
      " 44%|███████████████████▎                        | 7/16 [01:37<02:03, 13.73s/it]\u001B[A\n",
      " 50%|██████████████████████                      | 8/16 [01:51<01:49, 13.68s/it]\u001B[A\n",
      " 56%|████████████████████████▊                   | 9/16 [02:03<01:31, 13.08s/it]\u001B[A\n",
      " 62%|██████████████████████████▉                | 10/16 [02:03<00:55,  9.24s/it]\u001B[A\n",
      " 69%|█████████████████████████████▌             | 11/16 [02:03<00:32,  6.50s/it]\u001B[A\n",
      " 81%|██████████████████████████████████▉        | 13/16 [02:03<00:13,  4.60s/it]\u001B[A\n",
      " 88%|█████████████████████████████████████▋     | 14/16 [02:04<00:06,  3.33s/it]\u001B[A\n",
      " 94%|████████████████████████████████████████▎  | 15/16 [02:04<00:02,  2.46s/it]\u001B[A\n",
      "100%|███████████████████████████████████████████| 16/16 [02:05<00:00,  7.83s/it]\u001B[A\n",
      "4it [08:11, 115.47s/it]\n",
      "  0%|                                                    | 0/16 [00:00<?, ?it/s]\u001B[A\n",
      "  6%|██▊                                         | 1/16 [00:17<04:15, 17.03s/it]\u001B[A\n",
      " 12%|█████▌                                      | 2/16 [00:34<04:00, 17.18s/it]\u001B[A\n",
      " 19%|████████▎                                   | 3/16 [00:51<03:41, 17.02s/it]\u001B[A\n",
      " 25%|███████████                                 | 4/16 [01:07<03:23, 16.94s/it]\u001B[A\n",
      " 31%|█████████████▊                              | 5/16 [01:24<03:03, 16.72s/it]\u001B[A\n",
      " 38%|████████████████▌                           | 6/16 [01:40<02:45, 16.56s/it]\u001B[A\n",
      " 44%|███████████████████▎                        | 7/16 [01:54<02:21, 15.72s/it]\u001B[A\n",
      " 50%|██████████████████████                      | 8/16 [02:09<02:04, 15.52s/it]\u001B[A\n",
      " 56%|████████████████████████▊                   | 9/16 [02:25<01:49, 15.63s/it]\u001B[A\n",
      " 62%|██████████████████████████▉                | 10/16 [02:25<01:06, 11.06s/it]\u001B[A\n",
      " 69%|█████████████████████████████▌             | 11/16 [02:25<00:38,  7.77s/it]\u001B[A\n",
      " 81%|██████████████████████████████████▉        | 13/16 [02:25<00:16,  5.48s/it]\u001B[A\n",
      " 88%|█████████████████████████████████████▋     | 14/16 [02:26<00:07,  3.98s/it]\u001B[A\n",
      " 94%|████████████████████████████████████████▎  | 15/16 [02:27<00:03,  3.04s/it]\u001B[A\n",
      "100%|███████████████████████████████████████████| 16/16 [02:28<00:00,  9.29s/it]\u001B[A\n",
      "5it [10:40, 128.09s/it]\n"
     ]
    }
   ],
   "source": [
    "vanilla_cp_rew, vanilla_cp_error = train_and_evaluate(args, sweep_param, model_gen, n_iter=10)"
   ]
  },
  {
   "cell_type": "code",
   "execution_count": 30,
   "metadata": {},
   "outputs": [],
   "source": [
    "np.save(vanilla_cp_file_rew, vanilla_cp_rew)\n",
    "np.save(vanilla_cp_file_error, vanilla_cp_error)"
   ]
  },
  {
   "cell_type": "markdown",
   "metadata": {},
   "source": [
    "# R2 DDQN cartpole evaluation"
   ]
  },
  {
   "cell_type": "code",
   "execution_count": 32,
   "metadata": {},
   "outputs": [],
   "source": [
    "model_subfolder = 'R2_cartpole_reduleLR_scheduler1_5e5_ema'\n",
    "model_name = os.listdir(os.path.abspath(os.path.join('dqn', 'model', model_subfolder)))\n",
    "model_gen = LoadModel(args, subfolder=model_subfolder, model_name=model_name)"
   ]
  },
  {
   "cell_type": "code",
   "execution_count": 33,
   "metadata": {},
   "outputs": [
    {
     "name": "stderr",
     "output_type": "stream",
     "text": [
      "0it [00:00, ?it/s]\n",
      "  0%|                                                    | 0/16 [00:00<?, ?it/s]\u001B[A\n",
      "  6%|██▊                                         | 1/16 [00:05<01:25,  5.72s/it]\u001B[A\n",
      " 12%|█████▌                                      | 2/16 [00:10<01:17,  5.52s/it]\u001B[A\n",
      " 19%|████████▎                                   | 3/16 [00:15<01:09,  5.37s/it]\u001B[A\n",
      " 25%|███████████                                 | 4/16 [00:21<01:04,  5.34s/it]\u001B[A\n",
      " 31%|█████████████▊                              | 5/16 [00:27<01:01,  5.62s/it]\u001B[A\n",
      " 38%|████████████████▌                           | 6/16 [00:33<00:58,  5.80s/it]\u001B[A\n",
      " 44%|███████████████████▎                        | 7/16 [00:39<00:53,  5.93s/it]\u001B[A\n",
      " 50%|██████████████████████                      | 8/16 [00:46<00:48,  6.03s/it]\u001B[A\n",
      " 56%|████████████████████████▊                   | 9/16 [00:52<00:42,  6.09s/it]\u001B[A\n",
      " 62%|██████████████████████████▉                | 10/16 [00:52<00:25,  4.31s/it]\u001B[A\n",
      " 75%|████████████████████████████████▎          | 12/16 [00:52<00:12,  3.03s/it]\u001B[A\n",
      " 81%|██████████████████████████████████▉        | 13/16 [00:52<00:06,  2.17s/it]\u001B[A\n",
      " 88%|█████████████████████████████████████▋     | 14/16 [00:53<00:03,  1.65s/it]\u001B[A\n",
      " 94%|████████████████████████████████████████▎  | 15/16 [00:53<00:01,  1.36s/it]\u001B[A\n",
      "100%|███████████████████████████████████████████| 16/16 [00:54<00:00,  3.41s/it]\u001B[A\n",
      "1it [00:54, 54.61s/it]\n",
      "  0%|                                                    | 0/16 [00:00<?, ?it/s]\u001B[A\n",
      "  6%|██▊                                         | 1/16 [00:06<01:33,  6.23s/it]\u001B[A\n",
      " 12%|█████▌                                      | 2/16 [00:12<01:27,  6.25s/it]\u001B[A\n",
      " 19%|████████▎                                   | 3/16 [00:18<01:21,  6.27s/it]\u001B[A\n",
      " 25%|███████████                                 | 4/16 [00:25<01:15,  6.29s/it]\u001B[A\n",
      " 31%|█████████████▊                              | 5/16 [00:31<01:09,  6.30s/it]\u001B[A\n",
      " 38%|████████████████▌                           | 6/16 [00:37<01:03,  6.32s/it]\u001B[A\n",
      " 44%|███████████████████▎                        | 7/16 [00:53<01:21,  9.02s/it]\u001B[A\n",
      " 50%|██████████████████████                      | 8/16 [01:09<01:29, 11.17s/it]\u001B[A\n",
      " 56%|████████████████████████▊                   | 9/16 [01:22<01:23, 11.88s/it]\u001B[A\n",
      " 62%|██████████████████████████▉                | 10/16 [01:33<01:08, 11.38s/it]\u001B[A\n",
      " 69%|█████████████████████████████▌             | 11/16 [01:33<00:39,  8.00s/it]\u001B[A\n",
      " 81%|██████████████████████████████████▉        | 13/16 [01:33<00:16,  5.64s/it]\u001B[A\n",
      " 88%|█████████████████████████████████████▋     | 14/16 [01:33<00:08,  4.05s/it]\u001B[A\n",
      " 94%|████████████████████████████████████████▎  | 15/16 [01:34<00:02,  2.96s/it]\u001B[A\n",
      "100%|███████████████████████████████████████████| 16/16 [01:34<00:00,  5.93s/it]\u001B[A\n",
      "2it [02:29, 66.68s/it]\n",
      "  0%|                                                    | 0/16 [00:00<?, ?it/s]\u001B[A\n",
      "  6%|██▊                                         | 1/16 [00:16<04:06, 16.46s/it]\u001B[A\n",
      " 12%|█████▌                                      | 2/16 [00:32<03:50, 16.45s/it]\u001B[A\n",
      " 19%|████████▎                                   | 3/16 [00:49<03:33, 16.39s/it]\u001B[A\n",
      " 25%|███████████                                 | 4/16 [01:05<03:16, 16.34s/it]\u001B[A\n",
      " 31%|█████████████▊                              | 5/16 [01:21<02:59, 16.29s/it]\u001B[A\n",
      " 38%|████████████████▌                           | 6/16 [01:37<02:42, 16.27s/it]\u001B[A\n",
      " 44%|███████████████████▎                        | 7/16 [01:53<02:26, 16.26s/it]\u001B[A\n",
      " 50%|██████████████████████                      | 8/16 [02:10<02:09, 16.23s/it]\u001B[A\n",
      " 56%|████████████████████████▊                   | 9/16 [02:26<01:53, 16.19s/it]\u001B[A\n",
      " 62%|██████████████████████████▉                | 10/16 [02:26<01:09, 11.55s/it]\u001B[A\n",
      " 69%|█████████████████████████████▌             | 11/16 [02:27<00:40,  8.12s/it]\u001B[A\n",
      " 81%|██████████████████████████████████▉        | 13/16 [02:27<00:17,  5.74s/it]\u001B[A\n",
      " 88%|█████████████████████████████████████▋     | 14/16 [02:28<00:08,  4.24s/it]\u001B[A\n",
      " 94%|████████████████████████████████████████▎  | 15/16 [02:29<00:03,  3.27s/it]\u001B[A\n",
      "100%|███████████████████████████████████████████| 16/16 [02:29<00:00,  9.37s/it]\u001B[A\n",
      "3it [04:59, 91.63s/it]\n",
      "  0%|                                                    | 0/16 [00:00<?, ?it/s]\u001B[A\n",
      "  6%|██▊                                         | 1/16 [00:07<01:52,  7.48s/it]\u001B[A\n",
      " 12%|█████▌                                      | 2/16 [00:14<01:44,  7.43s/it]\u001B[A\n",
      " 19%|████████▎                                   | 3/16 [00:21<01:35,  7.36s/it]\u001B[A\n",
      " 25%|███████████                                 | 4/16 [00:29<01:27,  7.33s/it]\u001B[A\n",
      " 31%|█████████████▊                              | 5/16 [00:36<01:20,  7.33s/it]\u001B[A\n",
      " 38%|████████████████▌                           | 6/16 [00:43<01:13,  7.35s/it]\u001B[A\n",
      " 44%|███████████████████▎                        | 7/16 [00:51<01:06,  7.38s/it]\u001B[A\n",
      " 50%|██████████████████████                      | 8/16 [00:58<00:59,  7.38s/it]\u001B[A\n",
      " 56%|████████████████████████▊                   | 9/16 [01:06<00:51,  7.34s/it]\u001B[A\n",
      " 62%|██████████████████████████▉                | 10/16 [01:06<00:31,  5.19s/it]\u001B[A\n",
      " 75%|████████████████████████████████▎          | 12/16 [01:06<00:14,  3.65s/it]\u001B[A\n",
      " 81%|██████████████████████████████████▉        | 13/16 [01:06<00:07,  2.63s/it]\u001B[A\n",
      " 88%|█████████████████████████████████████▋     | 14/16 [01:06<00:03,  1.92s/it]\u001B[A\n",
      " 94%|████████████████████████████████████████▎  | 15/16 [01:07<00:01,  1.41s/it]\u001B[A\n",
      "100%|███████████████████████████████████████████| 16/16 [01:07<00:00,  4.21s/it]\u001B[A\n",
      "4it [06:06, 84.34s/it]\n",
      "  0%|                                                    | 0/16 [00:00<?, ?it/s]\u001B[A\n",
      "  6%|██▊                                         | 1/16 [00:07<01:51,  7.43s/it]\u001B[A\n",
      " 12%|█████▌                                      | 2/16 [00:14<01:43,  7.37s/it]\u001B[A\n",
      " 19%|████████▎                                   | 3/16 [00:21<01:35,  7.33s/it]\u001B[A\n",
      " 25%|███████████                                 | 4/16 [00:29<01:27,  7.32s/it]\u001B[A\n",
      " 31%|█████████████▊                              | 5/16 [00:36<01:20,  7.36s/it]\u001B[A\n",
      " 38%|████████████████▌                           | 6/16 [00:44<01:13,  7.37s/it]\u001B[A\n",
      " 44%|███████████████████▎                        | 7/16 [00:51<01:06,  7.39s/it]\u001B[A\n",
      " 50%|██████████████████████                      | 8/16 [00:58<00:58,  7.35s/it]\u001B[A\n",
      " 56%|████████████████████████▊                   | 9/16 [01:03<00:45,  6.47s/it]\u001B[A\n",
      " 62%|██████████████████████████▉                | 10/16 [01:03<00:27,  4.65s/it]\u001B[A\n",
      " 81%|██████████████████████████████████▉        | 13/16 [01:03<00:09,  3.28s/it]\u001B[A\n",
      " 88%|█████████████████████████████████████▋     | 14/16 [01:04<00:04,  2.36s/it]\u001B[A\n",
      " 94%|████████████████████████████████████████▎  | 15/16 [01:04<00:01,  1.74s/it]\u001B[A\n",
      "100%|███████████████████████████████████████████| 16/16 [01:04<00:00,  4.04s/it]\u001B[A\n",
      "5it [07:11, 86.25s/it]\n"
     ]
    }
   ],
   "source": [
    "r2_cp_rew, r2_cp_error = train_and_evaluate(args, sweep_param, model_gen, n_iter=10)"
   ]
  },
  {
   "cell_type": "code",
   "execution_count": 34,
   "metadata": {},
   "outputs": [],
   "source": [
    "np.save(r2_cp_file_rew, r2_cp_rew)\n",
    "np.save(r2_cp_file_error, r2_cp_error)"
   ]
  },
  {
   "cell_type": "code",
   "execution_count": 35,
   "metadata": {},
   "outputs": [
    {
     "data": {
      "text/plain": [
       "array([[500. , 500. , 500. , 500. , 500. , 500. , 500. , 500. , 500. ,\n",
       "          6.4,   3. ,   2. ,   7. ,  29.1,  52.8,  61.3],\n",
       "       [500. , 500. , 500. , 500. , 500. , 500. , 500. , 495.9, 423.3,\n",
       "        306.4,   3. ,   2. ,   6.2,  10. ,  13.6,  16.5],\n",
       "       [500. , 500. , 500. , 500. , 500. , 500. , 499.8, 499.5, 497.1,\n",
       "         23.5,   3. ,   2. ,   7.8,  18.1,  30.8,  42.4],\n",
       "       [500. , 500. , 500. , 500. , 500. , 500. , 500. , 500. , 499.2,\n",
       "          5.5,   3. ,   2. ,   8.8,  12.3,  14.3,  18.2],\n",
       "       [500. , 500. , 500. , 500. , 500. , 500. , 499.7, 493.8, 294. ,\n",
       "         27.9,   3. ,   2. ,  11.9,  13.8,  20.2,  23.3]])"
      ]
     },
     "execution_count": 35,
     "metadata": {},
     "output_type": "execute_result"
    }
   ],
   "source": [
    "r2_cp_rew"
   ]
  },
  {
   "cell_type": "markdown",
   "metadata": {},
   "source": [
    "# Robust DDQN cartpole evaluation"
   ]
  },
  {
   "cell_type": "code",
   "execution_count": 10,
   "metadata": {},
   "outputs": [],
   "source": [
    "model_subfolder = 'ro_cartpole_sweep'\n",
    "# last one\n",
    "# model_subfolder = 'robust_cartpole_reduleLR_scheduler1_5e5_ema'\n",
    "\n",
    "# model_subfolder = 'robust_cartpole_sweep_reduceLR_earlystop'\n",
    "model_name = os.listdir(os.path.abspath(os.path.join('dqn', 'model', model_subfolder)))\n",
    "model_gen = LoadModel(args, subfolder=model_subfolder, model_name=model_name)"
   ]
  },
  {
   "cell_type": "code",
   "execution_count": 11,
   "metadata": {},
   "outputs": [
    {
     "name": "stderr",
     "output_type": "stream",
     "text": [
      "0it [00:00, ?it/s]\n",
      "  0%|                                                    | 0/16 [00:00<?, ?it/s]\u001B[A/home/jenya/miniconda3/envs/project2/lib/python3.8/site-packages/gym/envs/registration.py:216: UserWarning: \u001B[33mWARN: Overriding environment LocalCartPole-v1\u001B[0m\n",
      "  logger.warn(\"Overriding environment {}\".format(id))\n",
      "/home/jenya/miniconda3/envs/project2/lib/python3.8/site-packages/gym/envs/registration.py:216: UserWarning: \u001B[33mWARN: Overriding environment LocalCartPoleStochasticReward-v1\u001B[0m\n",
      "  logger.warn(\"Overriding environment {}\".format(id))\n",
      "/home/jenya/miniconda3/envs/project2/lib/python3.8/site-packages/gym/envs/registration.py:216: UserWarning: \u001B[33mWARN: Overriding environment LocalAcrobot-v0\u001B[0m\n",
      "  logger.warn(\"Overriding environment {}\".format(id))\n",
      "/home/jenya/miniconda3/envs/project2/lib/python3.8/site-packages/gym/envs/registration.py:216: UserWarning: \u001B[33mWARN: Overriding environment LocalMountainCar-v0\u001B[0m\n",
      "  logger.warn(\"Overriding environment {}\".format(id))\n",
      "\n",
      "  6%|██▊                                         | 1/16 [00:11<02:56, 11.77s/it]\u001B[A\n",
      " 12%|█████▌                                      | 2/16 [00:27<03:00, 12.90s/it]\u001B[A\n",
      " 19%|████████▎                                   | 3/16 [00:41<02:53, 13.32s/it]\u001B[A\n",
      " 25%|███████████                                 | 4/16 [00:56<02:44, 13.69s/it]\u001B[A\n",
      " 31%|█████████████▊                              | 5/16 [01:10<02:31, 13.81s/it]\u001B[A\n",
      " 38%|████████████████▌                           | 6/16 [01:24<02:20, 14.06s/it]\u001B[A\n",
      " 44%|███████████████████▎                        | 7/16 [01:40<02:09, 14.41s/it]\u001B[A\n",
      " 50%|██████████████████████                      | 8/16 [01:57<02:02, 15.34s/it]\u001B[A\n",
      " 56%|████████████████████████▊                   | 9/16 [02:14<01:51, 15.89s/it]\u001B[A\n",
      " 62%|██████████████████████████▉                | 10/16 [02:22<01:21, 13.53s/it]\u001B[A\n",
      " 69%|█████████████████████████████▌             | 11/16 [02:23<00:47,  9.52s/it]\u001B[A\n",
      " 81%|██████████████████████████████████▉        | 13/16 [02:23<00:20,  6.72s/it]\u001B[A\n",
      " 88%|█████████████████████████████████████▋     | 14/16 [02:24<00:10,  5.08s/it]\u001B[A\n",
      " 94%|████████████████████████████████████████▎  | 15/16 [02:26<00:04,  4.06s/it]\u001B[A\n",
      "100%|███████████████████████████████████████████| 16/16 [02:28<00:00,  9.28s/it]\u001B[A\n",
      "1it [02:28, 148.49s/it]\n",
      "  0%|                                                    | 0/16 [00:00<?, ?it/s]\u001B[A\n",
      "  6%|██▊                                         | 1/16 [00:17<04:17, 17.18s/it]\u001B[A\n",
      " 12%|█████▌                                      | 2/16 [00:34<03:59, 17.11s/it]\u001B[A\n",
      " 19%|████████▎                                   | 3/16 [00:50<03:41, 17.02s/it]\u001B[A\n",
      " 25%|███████████                                 | 4/16 [01:08<03:24, 17.08s/it]\u001B[A\n",
      " 31%|█████████████▊                              | 5/16 [01:25<03:09, 17.18s/it]\u001B[A\n",
      " 38%|████████████████▌                           | 6/16 [01:44<02:57, 17.79s/it]\u001B[A\n",
      " 44%|███████████████████▎                        | 7/16 [02:00<02:35, 17.28s/it]\u001B[A\n",
      " 50%|██████████████████████                      | 8/16 [02:16<02:15, 16.88s/it]\u001B[A\n",
      " 56%|████████████████████████▊                   | 9/16 [02:33<01:57, 16.83s/it]\u001B[A\n",
      " 62%|██████████████████████████▉                | 10/16 [02:49<01:38, 16.47s/it]\u001B[A\n",
      " 69%|█████████████████████████████▌             | 11/16 [02:49<00:58, 11.60s/it]\u001B[A\n",
      " 81%|██████████████████████████████████▉        | 13/16 [02:49<00:24,  8.17s/it]\u001B[A\n",
      " 88%|█████████████████████████████████████▋     | 14/16 [02:50<00:11,  5.83s/it]\u001B[A\n",
      " 94%|████████████████████████████████████████▎  | 15/16 [02:50<00:04,  4.24s/it]\u001B[A\n",
      "100%|███████████████████████████████████████████| 16/16 [02:51<00:00, 10.70s/it]\u001B[A\n",
      "2it [05:19, 155.31s/it]\n",
      "  0%|                                                    | 0/16 [00:00<?, ?it/s]\u001B[A\n",
      "  6%|██▊                                         | 1/16 [00:13<03:23, 13.54s/it]\u001B[A\n",
      " 12%|█████▌                                      | 2/16 [00:27<03:11, 13.68s/it]\u001B[A\n",
      " 19%|████████▎                                   | 3/16 [00:41<02:57, 13.65s/it]\u001B[A\n",
      " 25%|███████████                                 | 4/16 [00:54<02:43, 13.58s/it]\u001B[A\n",
      " 31%|█████████████▊                              | 5/16 [01:08<02:30, 13.64s/it]\u001B[A\n",
      " 38%|████████████████▌                           | 6/16 [01:23<02:20, 14.01s/it]\u001B[A\n",
      " 44%|███████████████████▎                        | 7/16 [01:38<02:09, 14.42s/it]\u001B[A\n",
      " 50%|██████████████████████                      | 8/16 [01:54<01:58, 14.79s/it]\u001B[A\n",
      " 56%|████████████████████████▊                   | 9/16 [02:09<01:44, 14.98s/it]\u001B[A\n",
      " 62%|██████████████████████████▉                | 10/16 [02:16<01:15, 12.54s/it]\u001B[A\n",
      " 69%|█████████████████████████████▌             | 11/16 [02:16<00:44,  8.85s/it]\u001B[A\n",
      " 81%|██████████████████████████████████▉        | 13/16 [02:16<00:18,  6.23s/it]\u001B[A\n",
      " 88%|█████████████████████████████████████▋     | 14/16 [02:17<00:08,  4.44s/it]\u001B[A\n",
      " 94%|████████████████████████████████████████▎  | 15/16 [02:17<00:03,  3.22s/it]\u001B[A\n",
      "100%|███████████████████████████████████████████| 16/16 [02:18<00:00,  8.63s/it]\u001B[A\n",
      "3it [07:37, 150.12s/it]\n",
      "  0%|                                                    | 0/16 [00:00<?, ?it/s]\u001B[A\n",
      "  6%|██▊                                         | 1/16 [00:15<03:57, 15.81s/it]\u001B[A\n",
      " 12%|█████▌                                      | 2/16 [00:31<03:41, 15.81s/it]\u001B[A\n",
      " 19%|████████▎                                   | 3/16 [00:46<03:23, 15.67s/it]\u001B[A\n",
      " 25%|███████████                                 | 4/16 [01:02<03:08, 15.72s/it]\u001B[A\n",
      " 31%|█████████████▊                              | 5/16 [01:18<02:53, 15.77s/it]\u001B[A\n",
      " 38%|████████████████▌                           | 6/16 [01:34<02:37, 15.75s/it]\u001B[A\n",
      " 44%|███████████████████▎                        | 7/16 [01:50<02:22, 15.81s/it]\u001B[A\n",
      " 50%|██████████████████████                      | 8/16 [02:06<02:08, 16.00s/it]\u001B[A\n",
      " 56%|████████████████████████▊                   | 9/16 [02:10<01:26, 12.41s/it]\u001B[A\n",
      " 62%|██████████████████████████▉                | 10/16 [02:11<00:52,  8.76s/it]\u001B[A\n",
      " 69%|█████████████████████████████▌             | 11/16 [02:11<00:30,  6.17s/it]\u001B[A\n",
      " 81%|██████████████████████████████████▉        | 13/16 [02:11<00:13,  4.40s/it]\u001B[A\n",
      " 88%|█████████████████████████████████████▋     | 14/16 [02:12<00:06,  3.23s/it]\u001B[A\n",
      " 94%|████████████████████████████████████████▎  | 15/16 [02:12<00:02,  2.43s/it]\u001B[A\n",
      "100%|███████████████████████████████████████████| 16/16 [02:13<00:00,  8.33s/it]\u001B[A\n",
      "4it [09:51, 145.09s/it]\n",
      "  0%|                                                    | 0/16 [00:00<?, ?it/s]\u001B[A\n",
      "  6%|██▊                                         | 1/16 [00:15<03:59, 15.94s/it]\u001B[A\n",
      " 12%|█████▌                                      | 2/16 [00:31<03:42, 15.92s/it]\u001B[A\n",
      " 19%|████████▎                                   | 3/16 [00:48<03:30, 16.17s/it]\u001B[A\n",
      " 25%|███████████                                 | 4/16 [01:04<03:14, 16.17s/it]\u001B[A\n",
      " 31%|█████████████▊                              | 5/16 [01:20<02:58, 16.18s/it]\u001B[A\n",
      " 38%|████████████████▌                           | 6/16 [01:32<02:27, 14.75s/it]\u001B[A\n",
      " 44%|███████████████████▎                        | 7/16 [01:39<01:53, 12.57s/it]\u001B[A\n",
      " 50%|██████████████████████                      | 8/16 [01:47<01:28, 11.09s/it]\u001B[A\n",
      " 56%|████████████████████████▊                   | 9/16 [01:55<01:10, 10.05s/it]\u001B[A\n",
      " 62%|██████████████████████████▉                | 10/16 [01:55<00:42,  7.08s/it]\u001B[A\n",
      " 81%|██████████████████████████████████▉        | 13/16 [01:55<00:14,  4.97s/it]\u001B[A\n",
      " 88%|█████████████████████████████████████▋     | 14/16 [01:55<00:07,  3.54s/it]\u001B[A\n",
      " 94%|████████████████████████████████████████▎  | 15/16 [01:55<00:02,  2.55s/it]\u001B[A\n",
      "100%|███████████████████████████████████████████| 16/16 [01:56<00:00,  7.26s/it]\u001B[A\n",
      "5it [11:47, 141.45s/it]\n"
     ]
    }
   ],
   "source": [
    "robust_cp_rew, robust_cp_error = train_and_evaluate(args, sweep_param, model_gen, n_iter=10)"
   ]
  },
  {
   "cell_type": "code",
   "execution_count": 12,
   "metadata": {},
   "outputs": [],
   "source": [
    "np.save(robust_cp_file_rew, robust_cp_rew)\n",
    "np.save(robust_cp_file_error, robust_cp_error)"
   ]
  },
  {
   "cell_type": "code",
   "execution_count": 13,
   "metadata": {},
   "outputs": [
    {
     "data": {
      "text/plain": [
       "array([[500. , 500. , 500. , 500. , 500. , 500. , 500. , 500. , 497.2,\n",
       "        217.4,   3.7,   2. ,   6. ,  26.6,  48.7,  57.4],\n",
       "       [500. , 500. , 500. , 500. , 500. , 500. , 500. , 500. , 499.9,\n",
       "        476.2,   6.9,   2. ,   6. ,  10. ,  12.1,  14. ],\n",
       "       [409.4, 426.7, 428.8, 423.3, 437.8, 470.7, 496.9, 494.8, 491.8,\n",
       "        211.3,   7.8,   2. ,   6. ,   9. ,  12. ,  13.9],\n",
       "       [500. , 500. , 500. , 500. , 500. , 500. , 500. , 499.3, 141.4,\n",
       "          5.9,   3. ,   2. ,  11.9,  13.2,  15. ,  17.4],\n",
       "       [500. , 500. , 500. , 500. , 500. , 500. , 500. , 500. , 500. ,\n",
       "         11. ,   3. ,   2. ,   7.7,  15.4,  17.4,  20.2]])"
      ]
     },
     "execution_count": 13,
     "metadata": {},
     "output_type": "execute_result"
    }
   ],
   "source": [
    "robust_cp_rew"
   ]
  },
  {
   "cell_type": "markdown",
   "metadata": {},
   "source": [
    "# Load data"
   ]
  },
  {
   "cell_type": "code",
   "execution_count": 172,
   "metadata": {},
   "outputs": [],
   "source": [
    "vanilla_cp_rew = np.load(vanilla_cp_file_rew)\n",
    "vanilla_cp_error = np.load(vanilla_cp_file_error)"
   ]
  },
  {
   "cell_type": "code",
   "execution_count": 173,
   "metadata": {},
   "outputs": [],
   "source": [
    "r2_cp_rew = np.load(r2_cp_file_rew)\n",
    "r2_cp_error = np.load(r2_cp_file_error)"
   ]
  },
  {
   "cell_type": "code",
   "execution_count": 174,
   "metadata": {},
   "outputs": [],
   "source": [
    "robust_cp_rew = np.load(robust_cp_file_rew)\n",
    "robust_cp_error = np.load(robust_cp_file_error)"
   ]
  },
  {
   "cell_type": "code",
   "execution_count": 62,
   "metadata": {},
   "outputs": [
    {
     "data": {
      "text/plain": [
       "(5, 16)"
      ]
     },
     "execution_count": 62,
     "metadata": {},
     "output_type": "execute_result"
    }
   ],
   "source": [
    "vanilla_cp_rew.shape"
   ]
  },
  {
   "cell_type": "code",
   "execution_count": 175,
   "metadata": {},
   "outputs": [
    {
     "data": {
      "text/plain": [
       "<Figure size 640x480 with 0 Axes>"
      ]
     },
     "metadata": {},
     "output_type": "display_data"
    },
    {
     "data": {
      "image/png": "[encoded data removed]",
      "text/plain": [
       "<Figure size 1200x600 with 1 Axes>"
      ]
     },
     "metadata": {},
     "output_type": "display_data"
    }
   ],
   "source": [
    "plt.clf()\n",
    "fontsize = 20\n",
    "fig, ax = plt.subplots(figsize=(12, 6))\n",
    "\n",
    "vanilla_cp_mean = np.mean(vanilla_cp_rew, axis=0)\n",
    "vanilla_cp_std = np.std(vanilla_cp_rew, axis=0)\n",
    "\n",
    "r2_cp_mean = np.mean(r2_cp_rew, axis=0)\n",
    "r2_cp_std = np.std(r2_cp_rew, axis=0)\n",
    "\n",
    "robust_cp_mean = np.mean(robust_cp_rew, axis=0)\n",
    "robust_cp_std = np.std(robust_cp_rew, axis=0)\n",
    "\n",
    "ax.plot(sweep_vector, vanilla_cp_mean,'b', label='Vanilla') \n",
    "ax.fill_between(sweep_vector, vanilla_cp_mean-vanilla_cp_std, vanilla_cp_mean+vanilla_cp_std, alpha=0.3)\n",
    "ax.plot(sweep_vector, r2_cp_mean,'r', label='R2') \n",
    "ax.fill_between(sweep_vector, r2_cp_mean-r2_cp_std, r2_cp_mean+r2_cp_std, alpha=0.3)\n",
    "\n",
    "ax.plot(sweep_vector, robust_cp_mean,'g', label='Robust')\n",
    "ax.fill_between(sweep_vector, robust_cp_mean-robust_cp_std, robust_cp_mean+robust_cp_std, alpha=0.3)\n",
    "\n",
    "    \n",
    "ax.invert_xaxis()\n",
    "ax.set_xlabel('Mass pole', fontsize=fontsize)\n",
    "ax.set_ylabel('Reward', fontsize=fontsize)\n",
    "ax.set_title('Cartpole', fontweight=\"bold\", fontsize=fontsize)\n",
    "ax.set_yticks(range(0,600,100))\n",
    "ax.set_xticks(np.arange(0,5.01,0.5))\n",
    "ax.set_ylim([0, 600])\n",
    "ax.set_xlim(np.min(sweep_vector),np.max(sweep_vector))\n",
    "# ax.set_xlim(0.05, 0.1)\n",
    "plt.axvline(x=0.1, c='black')\n",
    "ax.tick_params(axis='both', labelsize=fontsize)\n",
    "\n",
    "ax.grid(True)\n",
    "# ax.legend()\n",
    "plt.savefig(os.path.abspath('../plots/cartpole_masspole_mean.png'))"
   ]
  },
  {
   "cell_type": "markdown",
   "metadata": {},
   "source": [
    "# Acrobot"
   ]
  },
  {
   "cell_type": "code",
   "execution_count": 181,
   "metadata": {},
   "outputs": [],
   "source": [
    "updater = UpdateAcrobotParams()\n",
    "args = updater.update_parser(ddqn_parser)[0]\n",
    "args.EnvIdex = 1"
   ]
  },
  {
   "cell_type": "code",
   "execution_count": 182,
   "metadata": {},
   "outputs": [],
   "source": [
    "temp_vanilla_ac_file_rew = os.path.abspath(os.path.join('.', 'plot_data', 'vanilla_rew_acrobot_sweep'))\n",
    "temp_vanilla_ac_file_error = os.path.abspath(os.path.join('.', 'plot_data', 'vanilla_error_acrobot_sweep'))\n",
    "\n",
    "temp_r2_ac_file_rew = os.path.abspath(os.path.join('.', 'plot_data', 'r2_rew_acrobot_sweep'))\n",
    "temp_r2_ac_file_error = os.path.abspath(os.path.join('.', 'plot_data', 'r2_error_acrobot_sweep'))\n",
    "\n",
    "temp_robust_ac_file_rew = os.path.abspath(os.path.join('.', 'plot_data', 'robust_rew_acrobot'))\n",
    "temp_robust_ac_file_error = os.path.abspath(os.path.join('.', 'plot_data', 'robust_error_acrobot'))"
   ]
  },
  {
   "cell_type": "markdown",
   "metadata": {},
   "source": [
    "# Acrobot link_com_pos_2"
   ]
  },
  {
   "cell_type": "code",
   "execution_count": 183,
   "metadata": {},
   "outputs": [],
   "source": [
    "sweep_str = 'link_com_pos_2'\n",
    "sweep_vector = get_sweep_params(1, sweep_str)\n",
    "sweep_param = [sweep_vector, sweep_str]"
   ]
  },
  {
   "cell_type": "code",
   "execution_count": 184,
   "metadata": {},
   "outputs": [],
   "source": [
    "file_end = '.npy'\n",
    "vanilla_ac_file_rew = temp_vanilla_ac_file_rew + sweep_str + file_end\n",
    "vanilla_ac_file_error = temp_vanilla_ac_file_error + sweep_str + file_end\n",
    "\n",
    "r2_ac_file_rew = temp_r2_ac_file_rew + sweep_str + file_end\n",
    "r2_ac_file_error = temp_r2_ac_file_error + sweep_str + file_end\n",
    "\n",
    "robust_ac_file_rew = temp_robust_ac_file_rew + sweep_str + file_end\n",
    "robust_ac_file_error = temp_robust_ac_file_error + sweep_str + file_end"
   ]
  },
  {
   "cell_type": "markdown",
   "metadata": {},
   "source": [
    "# Vanilla DDQN acrobot evaluation"
   ]
  },
  {
   "cell_type": "code",
   "execution_count": 39,
   "metadata": {},
   "outputs": [],
   "source": [
    "model_subfolder = 'vanilla_acrobot_sweep'\n",
    "model_name = os.listdir(os.path.abspath(os.path.join('DQN', 'model', model_subfolder)))\n",
    "model_gen = LoadModel(args, subfolder=model_subfolder, model_name=model_name)"
   ]
  },
  {
   "cell_type": "code",
   "execution_count": 40,
   "metadata": {},
   "outputs": [
    {
     "name": "stderr",
     "output_type": "stream",
     "text": [
      "0it [00:00, ?it/s]\n",
      "  0%|                                                    | 0/10 [00:00<?, ?it/s]\u001B[A\n",
      " 10%|████▍                                       | 1/10 [00:39<05:54, 39.39s/it]\u001B[A\n",
      " 20%|████████▊                                   | 2/10 [00:53<04:14, 31.79s/it]\u001B[A\n",
      " 30%|█████████████▏                              | 3/10 [01:09<03:09, 27.10s/it]\u001B[A\n",
      " 40%|█████████████████▌                          | 4/10 [01:18<02:09, 21.50s/it]\u001B[A\n",
      " 50%|██████████████████████                      | 5/10 [01:25<01:26, 17.39s/it]\u001B[A\n",
      " 60%|██████████████████████████▍                 | 6/10 [01:34<00:59, 14.78s/it]\u001B[A\n",
      " 70%|██████████████████████████████▊             | 7/10 [01:44<00:40, 13.34s/it]\u001B[A\n",
      " 80%|███████████████████████████████████▏        | 8/10 [01:54<00:24, 12.37s/it]\u001B[A\n",
      " 90%|███████████████████████████████████████▌    | 9/10 [02:08<00:12, 12.97s/it]\u001B[A\n",
      "100%|███████████████████████████████████████████| 10/10 [02:46<00:00, 16.63s/it]\u001B[A\n",
      "1it [02:46, 166.33s/it]\n",
      "  0%|                                                    | 0/10 [00:00<?, ?it/s]\u001B[A\n",
      " 10%|████▍                                       | 1/10 [00:35<05:22, 35.78s/it]\u001B[A\n",
      " 20%|████████▊                                   | 2/10 [01:13<04:51, 36.50s/it]\u001B[A\n",
      " 30%|█████████████▏                              | 3/10 [01:37<03:47, 32.50s/it]\u001B[A\n",
      " 40%|█████████████████▌                          | 4/10 [01:44<02:29, 24.99s/it]\u001B[A\n",
      " 50%|██████████████████████                      | 5/10 [01:51<01:38, 19.64s/it]\u001B[A\n",
      " 60%|██████████████████████████▍                 | 6/10 [02:00<01:05, 16.34s/it]\u001B[A\n",
      " 70%|██████████████████████████████▊             | 7/10 [02:10<00:43, 14.39s/it]\u001B[A\n",
      " 80%|███████████████████████████████████▏        | 8/10 [02:19<00:25, 12.98s/it]\u001B[A\n",
      " 90%|███████████████████████████████████████▌    | 9/10 [02:32<00:12, 12.73s/it]\u001B[A\n",
      "100%|███████████████████████████████████████████| 10/10 [03:04<00:00, 18.41s/it]\u001B[A\n",
      "2it [05:50, 171.66s/it]\n",
      "  0%|                                                    | 0/10 [00:00<?, ?it/s]\u001B[A\n",
      " 10%|████▍                                       | 1/10 [00:35<05:17, 35.28s/it]\u001B[A\n",
      " 20%|████████▊                                   | 2/10 [01:00<04:19, 32.39s/it]\u001B[A\n",
      " 30%|█████████████▏                              | 3/10 [01:18<03:15, 27.90s/it]\u001B[A\n",
      " 40%|█████████████████▌                          | 4/10 [01:26<02:11, 21.88s/it]\u001B[A\n",
      " 50%|██████████████████████                      | 5/10 [01:33<01:28, 17.61s/it]\u001B[A\n",
      " 60%|██████████████████████████▍                 | 6/10 [01:41<00:59, 14.75s/it]\u001B[A\n",
      " 70%|██████████████████████████████▊             | 7/10 [01:51<00:39, 13.08s/it]\u001B[A\n",
      " 80%|███████████████████████████████████▏        | 8/10 [02:06<00:27, 13.82s/it]\u001B[A\n",
      " 90%|███████████████████████████████████████▌    | 9/10 [02:31<00:17, 17.21s/it]\u001B[A\n",
      "100%|███████████████████████████████████████████| 10/10 [03:09<00:00, 18.99s/it]\u001B[A\n",
      "3it [09:00, 177.14s/it]\n",
      "  0%|                                                    | 0/10 [00:00<?, ?it/s]\u001B[A\n",
      " 10%|████▍                                       | 1/10 [00:38<05:50, 38.90s/it]\u001B[A\n",
      " 20%|████████▊                                   | 2/10 [01:15<05:04, 38.11s/it]\u001B[A\n",
      " 30%|█████████████▏                              | 3/10 [01:39<03:57, 33.98s/it]\u001B[A\n",
      " 40%|█████████████████▌                          | 4/10 [01:46<02:35, 25.97s/it]\u001B[A\n",
      " 50%|██████████████████████                      | 5/10 [01:54<01:41, 20.37s/it]\u001B[A\n",
      " 60%|██████████████████████████▍                 | 6/10 [02:01<01:06, 16.61s/it]\u001B[A\n",
      " 70%|██████████████████████████████▊             | 7/10 [02:10<00:42, 14.27s/it]\u001B[A\n",
      " 80%|███████████████████████████████████▏        | 8/10 [02:20<00:25, 12.88s/it]\u001B[A\n",
      " 90%|███████████████████████████████████████▌    | 9/10 [02:33<00:13, 13.05s/it]\u001B[A\n",
      "100%|███████████████████████████████████████████| 10/10 [03:07<00:00, 18.76s/it]\u001B[A\n",
      "4it [12:07, 180.27s/it]\n",
      "  0%|                                                    | 0/10 [00:00<?, ?it/s]\u001B[A\n",
      " 10%|████▍                                       | 1/10 [00:24<03:44, 24.94s/it]\u001B[A\n",
      " 20%|████████▊                                   | 2/10 [00:37<02:50, 21.26s/it]\u001B[A\n",
      " 30%|█████████████▏                              | 3/10 [00:48<02:06, 18.03s/it]\u001B[A\n",
      " 40%|█████████████████▌                          | 4/10 [00:55<01:28, 14.72s/it]\u001B[A\n",
      " 50%|██████████████████████                      | 5/10 [01:02<01:02, 12.43s/it]\u001B[A\n",
      " 60%|██████████████████████████▍                 | 6/10 [01:10<00:44, 11.06s/it]\u001B[A\n",
      " 70%|██████████████████████████████▊             | 7/10 [01:18<00:31, 10.38s/it]\u001B[A\n",
      " 80%|███████████████████████████████████▏        | 8/10 [01:28<00:20, 10.14s/it]\u001B[A\n",
      " 90%|███████████████████████████████████████▌    | 9/10 [01:40<00:10, 10.64s/it]\u001B[A\n",
      "100%|███████████████████████████████████████████| 10/10 [02:12<00:00, 13.28s/it]\u001B[A\n",
      "5it [14:20, 172.15s/it]\n"
     ]
    }
   ],
   "source": [
    "vanilla_ac_rew, vanilla_ac_error = train_and_evaluate(args, sweep_param, model_gen, n_iter=10)"
   ]
  },
  {
   "cell_type": "code",
   "execution_count": 41,
   "metadata": {},
   "outputs": [],
   "source": [
    "np.save(vanilla_ac_file_rew, vanilla_ac_rew)\n",
    "np.save(vanilla_ac_file_error, vanilla_ac_error)"
   ]
  },
  {
   "cell_type": "code",
   "execution_count": 42,
   "metadata": {},
   "outputs": [
    {
     "data": {
      "text/plain": [
       "array([[-490.6, -179.7, -204. , -104.3,  -97.5, -113.9, -127.9, -135.8,\n",
       "        -166.1, -451.4],\n",
       "       [-440. , -424. , -284.9, -103.7,  -99.1, -110.6, -126. , -135.9,\n",
       "        -167.8, -449.3],\n",
       "       [-500. , -366.5, -240.9, -105.8, -100.4, -111.6, -125.3, -135.3,\n",
       "        -160.8, -458. ],\n",
       "       [-490.4, -490. , -343.5, -103.2,  -98.5, -110.1, -126.3, -135.5,\n",
       "        -159.9, -450.1],\n",
       "       [-350.7, -176.6, -147.5,  -97.9,  -98. , -111.5, -124.6, -133.6,\n",
       "        -166.7, -453.6]])"
      ]
     },
     "execution_count": 42,
     "metadata": {},
     "output_type": "execute_result"
    }
   ],
   "source": [
    "vanilla_ac_rew"
   ]
  },
  {
   "cell_type": "markdown",
   "metadata": {},
   "source": [
    "# R2 DDQN acrobot evaluation"
   ]
  },
  {
   "cell_type": "code",
   "execution_count": 43,
   "metadata": {},
   "outputs": [],
   "source": [
    "model_subfolder = 'r2_acrobot_sweep'\n",
    "model_name = os.listdir(os.path.abspath(os.path.join('DQN', 'model', model_subfolder)))\n",
    "model_gen = LoadModel(args, subfolder=model_subfolder, model_name=model_name)"
   ]
  },
  {
   "cell_type": "code",
   "execution_count": 44,
   "metadata": {},
   "outputs": [
    {
     "name": "stderr",
     "output_type": "stream",
     "text": [
      "0it [00:00, ?it/s]\n",
      "  0%|                                                    | 0/10 [00:00<?, ?it/s]\u001B[A\n",
      " 10%|████▍                                       | 1/10 [00:33<05:05, 33.94s/it]\u001B[A\n",
      " 20%|████████▊                                   | 2/10 [00:48<03:43, 27.98s/it]\u001B[A\n",
      " 30%|█████████████▏                              | 3/10 [00:58<02:39, 22.74s/it]\u001B[A\n",
      " 40%|█████████████████▌                          | 4/10 [01:05<01:48, 18.06s/it]\u001B[A\n",
      " 50%|██████████████████████                      | 5/10 [01:13<01:14, 14.85s/it]\u001B[A\n",
      " 60%|██████████████████████████▍                 | 6/10 [01:21<00:51, 12.95s/it]\u001B[A\n",
      " 70%|██████████████████████████████▊             | 7/10 [01:30<00:35, 11.73s/it]\u001B[A\n",
      " 80%|███████████████████████████████████▏        | 8/10 [01:39<00:22, 11.07s/it]\u001B[A\n",
      " 90%|███████████████████████████████████████▌    | 9/10 [01:51<00:11, 11.33s/it]\u001B[A\n",
      "100%|███████████████████████████████████████████| 10/10 [02:26<00:00, 14.63s/it]\u001B[A\n",
      "1it [02:26, 146.36s/it]\n",
      "  0%|                                                    | 0/10 [00:00<?, ?it/s]\u001B[A\n",
      " 10%|████▍                                       | 1/10 [00:40<06:01, 40.21s/it]\u001B[A\n",
      " 20%|████████▊                                   | 2/10 [01:26<05:36, 42.02s/it]\u001B[A\n",
      " 30%|█████████████▏                              | 3/10 [01:52<04:20, 37.20s/it]\u001B[A\n",
      " 40%|█████████████████▌                          | 4/10 [02:01<02:52, 28.67s/it]\u001B[A\n",
      " 50%|██████████████████████                      | 5/10 [02:08<01:52, 22.42s/it]\u001B[A\n",
      " 60%|██████████████████████████▍                 | 6/10 [02:17<01:12, 18.21s/it]\u001B[A\n",
      " 70%|██████████████████████████████▊             | 7/10 [02:30<00:49, 16.56s/it]\u001B[A\n",
      " 80%|███████████████████████████████████▏        | 8/10 [02:42<00:30, 15.40s/it]\u001B[A\n",
      " 90%|███████████████████████████████████████▌    | 9/10 [02:59<00:15, 15.85s/it]\u001B[A\n",
      "100%|███████████████████████████████████████████| 10/10 [03:57<00:00, 23.75s/it]\u001B[A\n",
      "2it [06:23, 173.71s/it]\n",
      "  0%|                                                    | 0/10 [00:00<?, ?it/s]\u001B[A\n",
      " 10%|████▍                                       | 1/10 [00:58<08:44, 58.24s/it]\u001B[A\n",
      " 20%|████████▊                                   | 2/10 [01:50<07:31, 56.38s/it]\u001B[A\n",
      " 30%|█████████████▏                              | 3/10 [02:10<05:19, 45.63s/it]\u001B[A\n",
      " 40%|█████████████████▌                          | 4/10 [02:25<03:38, 36.37s/it]\u001B[A\n",
      " 50%|██████████████████████                      | 5/10 [02:37<02:25, 29.06s/it]\u001B[A\n",
      " 60%|██████████████████████████▍                 | 6/10 [02:53<01:40, 25.12s/it]\u001B[A\n",
      " 70%|██████████████████████████████▊             | 7/10 [03:03<01:02, 20.70s/it]\u001B[A\n",
      " 80%|███████████████████████████████████▏        | 8/10 [03:20<00:38, 19.34s/it]\u001B[A\n",
      " 90%|███████████████████████████████████████▌    | 9/10 [03:37<00:18, 18.65s/it]\u001B[A\n",
      "100%|███████████████████████████████████████████| 10/10 [04:10<00:00, 25.08s/it]\u001B[A\n",
      "3it [10:34, 196.85s/it]\n",
      "  0%|                                                    | 0/10 [00:00<?, ?it/s]\u001B[A\n",
      " 10%|████▍                                       | 1/10 [00:35<05:18, 35.40s/it]\u001B[A\n",
      " 20%|████████▊                                   | 2/10 [00:48<03:50, 28.79s/it]\u001B[A\n",
      " 30%|█████████████▏                              | 3/10 [01:06<02:57, 25.34s/it]\u001B[A\n",
      " 40%|█████████████████▌                          | 4/10 [01:13<02:00, 20.00s/it]\u001B[A\n",
      " 50%|██████████████████████                      | 5/10 [01:21<01:21, 16.24s/it]\u001B[A\n",
      " 60%|██████████████████████████▍                 | 6/10 [01:28<00:54, 13.60s/it]\u001B[A\n",
      " 70%|██████████████████████████████▊             | 7/10 [01:38<00:37, 12.60s/it]\u001B[A\n",
      " 80%|███████████████████████████████████▏        | 8/10 [01:58<00:29, 14.69s/it]\u001B[A\n",
      " 90%|███████████████████████████████████████▌    | 9/10 [02:14<00:15, 15.25s/it]\u001B[A\n",
      "100%|███████████████████████████████████████████| 10/10 [03:13<00:00, 19.32s/it]\u001B[A\n",
      "4it [13:47, 195.76s/it]\n",
      "  0%|                                                    | 0/10 [00:00<?, ?it/s]\u001B[A\n",
      " 10%|████▍                                       | 1/10 [00:54<08:13, 54.81s/it]\u001B[A\n",
      " 20%|████████▊                                   | 2/10 [01:28<06:28, 48.55s/it]\u001B[A\n",
      " 30%|█████████████▏                              | 3/10 [01:52<04:47, 41.02s/it]\u001B[A\n",
      " 40%|█████████████████▌                          | 4/10 [02:03<03:11, 31.96s/it]\u001B[A\n",
      " 50%|██████████████████████                      | 5/10 [02:13<02:07, 25.58s/it]\u001B[A\n",
      " 60%|██████████████████████████▍                 | 6/10 [02:25<01:25, 21.33s/it]\u001B[A\n",
      " 70%|██████████████████████████████▊             | 7/10 [02:37<00:55, 18.54s/it]\u001B[A\n",
      " 80%|███████████████████████████████████▏        | 8/10 [02:50<00:33, 16.84s/it]\u001B[A\n",
      " 90%|███████████████████████████████████████▌    | 9/10 [03:10<00:17, 17.82s/it]\u001B[A\n",
      "100%|███████████████████████████████████████████| 10/10 [04:20<00:00, 26.03s/it]\u001B[A\n",
      "5it [18:08, 217.65s/it]\n"
     ]
    }
   ],
   "source": [
    "r2_ac_rew, r2_ac_error = train_and_evaluate(args, sweep_param, model_gen, n_iter=10)"
   ]
  },
  {
   "cell_type": "code",
   "execution_count": 45,
   "metadata": {},
   "outputs": [],
   "source": [
    "np.save(r2_ac_file_rew, r2_ac_rew)\n",
    "np.save(r2_ac_file_error, r2_ac_error)"
   ]
  },
  {
   "cell_type": "code",
   "execution_count": 46,
   "metadata": {},
   "outputs": [
    {
     "data": {
      "text/plain": [
       "array([[-486. , -179.3, -146.6,  -98.9, -103.7, -118.5, -127.5, -134.5,\n",
       "        -167.7, -465.7],\n",
       "       [-381.6, -392.8, -231.9, -118.1, -104.1, -114.2, -127.2, -139.3,\n",
       "        -169.1, -452.5],\n",
       "       [-499.5, -436.2, -193. , -111.2, -113.2, -114.6, -123.8, -134.4,\n",
       "        -165.1, -453. ],\n",
       "       [-489.6, -188.5, -243.2, -107.2, -107.8, -105.2, -124.8, -134.7,\n",
       "        -163.8, -447. ],\n",
       "       [-485.3, -224.5, -218.8,  -97.7, -102.8, -111.3, -123.1, -133.7,\n",
       "        -164.6, -459.6]])"
      ]
     },
     "execution_count": 46,
     "metadata": {},
     "output_type": "execute_result"
    }
   ],
   "source": [
    "r2_ac_rew"
   ]
  },
  {
   "cell_type": "markdown",
   "metadata": {},
   "source": [
    "# Robust DDQN acrobot evaluation"
   ]
  },
  {
   "cell_type": "code",
   "execution_count": 58,
   "metadata": {},
   "outputs": [],
   "source": [
    "model_subfolder = 'ro_acrobot_sweep'\n",
    "model_name = os.listdir(os.path.abspath(os.path.join('DQN', 'model', model_subfolder)))\n",
    "model_gen = LoadModel(args, subfolder=model_subfolder, model_name=model_name)"
   ]
  },
  {
   "cell_type": "code",
   "execution_count": 59,
   "metadata": {},
   "outputs": [
    {
     "name": "stderr",
     "output_type": "stream",
     "text": [
      "0it [00:00, ?it/s]\n",
      "  0%|                                                    | 0/10 [00:00<?, ?it/s]\u001B[A\n",
      " 10%|████▍                                       | 1/10 [00:30<04:34, 30.51s/it]\u001B[A\n",
      " 20%|████████▊                                   | 2/10 [00:42<03:20, 25.06s/it]\u001B[A\n",
      " 30%|█████████████▏                              | 3/10 [01:03<02:45, 23.66s/it]\u001B[A\n",
      " 40%|█████████████████▌                          | 4/10 [01:11<01:53, 18.99s/it]\u001B[A\n",
      " 50%|██████████████████████                      | 5/10 [01:21<01:21, 16.38s/it]\u001B[A\n",
      " 60%|██████████████████████████▍                 | 6/10 [01:32<00:58, 14.74s/it]\u001B[A\n",
      " 70%|██████████████████████████████▊             | 7/10 [01:44<00:41, 13.87s/it]\u001B[A\n",
      " 80%|███████████████████████████████████▏        | 8/10 [01:54<00:25, 12.76s/it]\u001B[A\n",
      " 90%|███████████████████████████████████████▌    | 9/10 [02:06<00:12, 12.42s/it]\u001B[A\n",
      "100%|███████████████████████████████████████████| 10/10 [02:37<00:00, 15.77s/it]\u001B[A\n",
      "1it [02:37, 157.67s/it]\n",
      "  0%|                                                    | 0/10 [00:00<?, ?it/s]\u001B[A\n",
      " 10%|████▍                                       | 1/10 [00:44<06:37, 44.21s/it]\u001B[A\n",
      " 20%|████████▊                                   | 2/10 [01:01<04:49, 36.19s/it]\u001B[A\n",
      " 30%|█████████████▏                              | 3/10 [01:14<03:24, 29.18s/it]\u001B[A\n",
      " 40%|█████████████████▌                          | 4/10 [01:22<02:17, 22.95s/it]\u001B[A\n",
      " 50%|██████████████████████                      | 5/10 [01:30<01:32, 18.48s/it]\u001B[A\n",
      " 60%|██████████████████████████▍                 | 6/10 [01:41<01:04, 16.15s/it]\u001B[A\n",
      " 70%|██████████████████████████████▊             | 7/10 [01:55<00:46, 15.59s/it]\u001B[A\n",
      " 80%|███████████████████████████████████▏        | 8/10 [02:11<00:30, 15.43s/it]\u001B[A\n",
      " 90%|███████████████████████████████████████▌    | 9/10 [02:27<00:15, 15.66s/it]\u001B[A\n",
      "100%|███████████████████████████████████████████| 10/10 [03:18<00:00, 19.84s/it]\u001B[A\n",
      "2it [05:56, 169.90s/it]\n",
      "  0%|                                                    | 0/10 [00:00<?, ?it/s]\u001B[A\n",
      " 10%|████▍                                       | 1/10 [00:51<07:44, 51.57s/it]\u001B[A\n",
      " 20%|████████▊                                   | 2/10 [01:26<06:12, 46.62s/it]\u001B[A\n",
      " 30%|█████████████▏                              | 3/10 [01:49<04:36, 39.45s/it]\u001B[A\n",
      " 40%|█████████████████▌                          | 4/10 [02:00<03:05, 30.95s/it]\u001B[A\n",
      " 50%|██████████████████████                      | 5/10 [02:09<02:01, 24.37s/it]\u001B[A\n",
      " 60%|██████████████████████████▍                 | 6/10 [02:18<01:18, 19.65s/it]\u001B[A\n",
      " 70%|██████████████████████████████▊             | 7/10 [02:29<00:51, 17.15s/it]\u001B[A\n",
      " 80%|███████████████████████████████████▏        | 8/10 [02:39<00:29, 14.88s/it]\u001B[A\n",
      " 90%|███████████████████████████████████████▌    | 9/10 [02:50<00:13, 13.99s/it]\u001B[A\n",
      "100%|███████████████████████████████████████████| 10/10 [03:34<00:00, 21.48s/it]\u001B[A\n",
      "3it [09:30, 183.37s/it]\n",
      "  0%|                                                    | 0/10 [00:00<?, ?it/s]\u001B[A\n",
      " 10%|████▍                                       | 1/10 [00:38<05:49, 38.80s/it]\u001B[A\n",
      " 20%|████████▊                                   | 2/10 [00:53<04:13, 31.72s/it]\u001B[A\n",
      " 30%|█████████████▏                              | 3/10 [01:07<03:04, 26.40s/it]\u001B[A\n",
      " 40%|█████████████████▌                          | 4/10 [01:16<02:06, 21.00s/it]\u001B[A\n",
      " 50%|██████████████████████                      | 5/10 [01:23<01:24, 16.92s/it]\u001B[A\n",
      " 60%|██████████████████████████▍                 | 6/10 [01:32<00:57, 14.43s/it]\u001B[A\n",
      " 70%|██████████████████████████████▊             | 7/10 [01:42<00:39, 13.23s/it]\u001B[A\n",
      " 80%|███████████████████████████████████▏        | 8/10 [01:54<00:25, 12.85s/it]\u001B[A\n",
      " 90%|███████████████████████████████████████▌    | 9/10 [02:11<00:14, 14.06s/it]\u001B[A\n",
      "100%|███████████████████████████████████████████| 10/10 [03:11<00:00, 19.19s/it]\u001B[A\n",
      "4it [12:42, 185.93s/it]\n",
      "  0%|                                                    | 0/10 [00:00<?, ?it/s]\u001B[A\n",
      " 10%|████▍                                       | 1/10 [01:02<09:25, 62.86s/it]\u001B[A\n",
      " 20%|████████▊                                   | 2/10 [01:45<07:35, 56.93s/it]\u001B[A\n",
      " 30%|█████████████▏                              | 3/10 [02:09<05:28, 46.97s/it]\u001B[A\n",
      " 40%|█████████████████▌                          | 4/10 [02:23<03:41, 36.92s/it]\u001B[A\n",
      " 50%|██████████████████████                      | 5/10 [02:32<02:23, 28.63s/it]\u001B[A\n",
      " 60%|██████████████████████████▍                 | 6/10 [02:42<01:32, 23.13s/it]\u001B[A\n",
      " 70%|██████████████████████████████▊             | 7/10 [02:55<01:00, 20.10s/it]\u001B[A\n",
      " 80%|███████████████████████████████████▏        | 8/10 [03:09<00:36, 18.13s/it]\u001B[A\n",
      " 90%|███████████████████████████████████████▌    | 9/10 [03:40<00:22, 22.10s/it]\u001B[A\n",
      "100%|███████████████████████████████████████████| 10/10 [04:30<00:00, 27.07s/it]\u001B[A\n",
      "5it [17:13, 206.70s/it]\n"
     ]
    }
   ],
   "source": [
    "robust_ac_rew, robust_ac_error = train_and_evaluate(args, sweep_param, model_gen, n_iter=10)"
   ]
  },
  {
   "cell_type": "code",
   "execution_count": 65,
   "metadata": {},
   "outputs": [],
   "source": [
    "np.save(robust_ac_file_rew, robust_ac_rew)\n",
    "np.save(robust_ac_file_error, robust_ac_error)"
   ]
  },
  {
   "cell_type": "code",
   "execution_count": 66,
   "metadata": {},
   "outputs": [
    {
     "data": {
      "text/plain": [
       "array([[-400.1, -161.6, -198.3, -106.5, -100.5, -111.2, -125.2, -137.6,\n",
       "        -160.2, -438.5],\n",
       "       [-463.7, -165.4, -167.2,  -98.2,  -98.2, -112.9, -127.2, -137.4,\n",
       "        -166.6, -456.5],\n",
       "       [-494.1, -372.4, -224.6,  -95.2, -100.6, -111.2, -125.9, -134.8,\n",
       "        -163.9, -446.4],\n",
       "       [-470.3, -161.7, -147.2,  -97.1, -103.2, -114. , -126.7, -139.7,\n",
       "        -166.2, -449.3],\n",
       "       [-484.1, -297. , -224.8, -106.9, -103.5, -112.1, -124.5, -134.2,\n",
       "        -163.8, -461.6]])"
      ]
     },
     "execution_count": 66,
     "metadata": {},
     "output_type": "execute_result"
    }
   ],
   "source": [
    "robust_ac_rew"
   ]
  },
  {
   "cell_type": "markdown",
   "metadata": {},
   "source": [
    "# Load data"
   ]
  },
  {
   "cell_type": "code",
   "execution_count": 185,
   "metadata": {},
   "outputs": [],
   "source": [
    "vanilla_ac_rew = np.load(vanilla_ac_file_rew)\n",
    "vanilla_ac_error = np.load(vanilla_ac_file_error)"
   ]
  },
  {
   "cell_type": "code",
   "execution_count": 186,
   "metadata": {},
   "outputs": [],
   "source": [
    "r2_ac_rew = np.load(r2_ac_file_rew)\n",
    "r2_ac_error = np.load(r2_ac_file_error)"
   ]
  },
  {
   "cell_type": "code",
   "execution_count": 187,
   "metadata": {},
   "outputs": [],
   "source": [
    "robust_ac_rew = np.load(robust_ac_file_rew)\n",
    "robust_ac_error = np.load(robust_ac_file_error)"
   ]
  },
  {
   "cell_type": "code",
   "execution_count": 188,
   "metadata": {},
   "outputs": [
    {
     "data": {
      "text/plain": [
       "<Figure size 640x480 with 0 Axes>"
      ]
     },
     "metadata": {},
     "output_type": "display_data"
    },
    {
     "data": {
      "image/png": "[encoded data removed]",
      "text/plain": [
       "<Figure size 1200x600 with 1 Axes>"
      ]
     },
     "metadata": {},
     "output_type": "display_data"
    }
   ],
   "source": [
    "plt.clf()\n",
    "fontsize = 20\n",
    "fig, ax = plt.subplots(figsize=(12, 6))\n",
    "\n",
    "vanilla_ac_mean = np.mean(vanilla_ac_rew, axis=0)\n",
    "vanilla_ac_std = np.std(vanilla_ac_rew, axis=0)\n",
    "\n",
    "r2_ac_mean = np.mean(r2_ac_rew, axis=0)\n",
    "r2_ac_std = np.std(r2_ac_rew, axis=0)\n",
    "\n",
    "robust_ac_mean = np.mean(robust_ac_rew, axis=0)\n",
    "robust_ac_std = np.std(robust_ac_rew, axis=0)\n",
    "\n",
    "ax.plot(sweep_vector, vanilla_ac_mean,'b', label='Vanilla') \n",
    "ax.fill_between(sweep_vector, vanilla_ac_mean-vanilla_ac_std, vanilla_ac_mean+vanilla_ac_std, alpha=0.3)\n",
    "ax.plot(sweep_vector, r2_ac_mean,'r', label='R2') \n",
    "ax.fill_between(sweep_vector, r2_ac_mean-r2_ac_std, r2_ac_mean+r2_ac_std, alpha=0.3)\n",
    "\n",
    "ax.plot(sweep_vector, robust_ac_mean,'g', label='Robust')\n",
    "ax.fill_between(sweep_vector, robust_ac_mean-robust_ac_std, robust_ac_mean+robust_ac_std, alpha=0.3)\n",
    "\n",
    "    \n",
    "ax.invert_xaxis()\n",
    "ax.set_xlabel('Link Com Pos 2', fontsize=fontsize)\n",
    "ax.set_ylabel('Reward', fontsize=fontsize)\n",
    "ax.set_title('Acrobot', fontweight=\"bold\", fontsize=fontsize)\n",
    "ax.set_yticks(range(-500,-80,100))\n",
    "ax.set_ylim([-500, -80])\n",
    "ax.set_xlim(np.min(sweep_vector),np.max(sweep_vector))\n",
    "ax.set_xlim(np.min(sweep_vector),1.5)\n",
    "plt.axvline(x=1, c='black')\n",
    "ax.tick_params(axis='both', labelsize=fontsize)\n",
    "\n",
    "ax.grid(True)\n",
    "# ax.legend()\n",
    "plt.savefig(os.path.abspath('../plots/acrobot_linkcompos2_full_mean.png'))"
   ]
  },
  {
   "cell_type": "markdown",
   "metadata": {},
   "source": [
    "# Acrobot link_mass_2"
   ]
  },
  {
   "cell_type": "code",
   "execution_count": 189,
   "metadata": {},
   "outputs": [],
   "source": [
    "sweep_str = 'link_mass_2'\n",
    "sweep_vector = get_sweep_params(1, sweep_str)\n",
    "sweep_param = [sweep_vector, sweep_str]"
   ]
  },
  {
   "cell_type": "code",
   "execution_count": 190,
   "metadata": {},
   "outputs": [],
   "source": [
    "file_end = '.npy'\n",
    "vanilla_ac_file_rew = temp_vanilla_ac_file_rew + sweep_str + file_end\n",
    "vanilla_ac_file_error = temp_vanilla_ac_file_error + sweep_str + file_end\n",
    "\n",
    "r2_ac_file_rew = temp_r2_ac_file_rew + sweep_str + file_end\n",
    "r2_ac_file_error = temp_r2_ac_file_error + sweep_str + file_end\n",
    "\n",
    "robust_ac_file_rew = temp_robust_ac_file_rew + sweep_str + file_end\n",
    "robust_ac_file_error = temp_robust_ac_file_error + sweep_str + file_end"
   ]
  },
  {
   "cell_type": "markdown",
   "metadata": {},
   "source": [
    "# Vanilla DDQN acrobot evaluation"
   ]
  },
  {
   "cell_type": "code",
   "execution_count": 41,
   "metadata": {},
   "outputs": [],
   "source": [
    "model_subfolder = 'vanilla_acrobot_sweep'\n",
    "model_name = os.listdir(os.path.abspath(os.path.join('DQN', 'model', model_subfolder)))\n",
    "model_gen = LoadModel(args, subfolder=model_subfolder, model_name=model_name)"
   ]
  },
  {
   "cell_type": "code",
   "execution_count": 42,
   "metadata": {},
   "outputs": [
    {
     "name": "stderr",
     "output_type": "stream",
     "text": [
      "0it [00:00, ?it/s]\n",
      "  0%|                                                     | 0/8 [00:00<?, ?it/s]\u001B[A\n",
      " 12%|█████▋                                       | 1/8 [00:42<04:57, 42.48s/it]\u001B[A\n",
      " 25%|███████████▎                                 | 2/8 [01:00<03:30, 35.15s/it]\u001B[A\n",
      " 38%|████████████████▉                            | 3/8 [01:14<02:23, 28.67s/it]\u001B[A\n",
      " 50%|██████████████████████▌                      | 4/8 [01:27<01:36, 24.10s/it]\u001B[A\n",
      " 62%|████████████████████████████▏                | 5/8 [01:42<01:04, 21.44s/it]\u001B[A\n",
      " 75%|█████████████████████████████████▊           | 6/8 [01:57<00:38, 19.36s/it]\u001B[A\n",
      " 88%|███████████████████████████████████████▍     | 7/8 [02:13<00:18, 18.37s/it]\u001B[A\n",
      "100%|█████████████████████████████████████████████| 8/8 [02:37<00:00, 19.70s/it]\u001B[A\n",
      "1it [02:37, 157.60s/it]\n",
      "  0%|                                                     | 0/8 [00:00<?, ?it/s]\u001B[A\n",
      " 12%|█████▋                                       | 1/8 [00:42<04:57, 42.46s/it]\u001B[A\n",
      " 25%|███████████▎                                 | 2/8 [01:14<03:56, 39.48s/it]\u001B[A\n",
      " 38%|████████████████▉                            | 3/8 [01:32<02:44, 32.87s/it]\u001B[A\n",
      " 50%|██████████████████████▌                      | 4/8 [01:39<01:41, 25.27s/it]\u001B[A\n",
      " 62%|████████████████████████████▏                | 5/8 [01:48<01:00, 20.11s/it]\u001B[A\n",
      " 75%|█████████████████████████████████▊           | 6/8 [01:56<00:33, 16.53s/it]\u001B[A\n",
      " 88%|███████████████████████████████████████▍     | 7/8 [02:06<00:14, 14.54s/it]\u001B[A\n",
      "100%|█████████████████████████████████████████████| 8/8 [02:24<00:00, 18.02s/it]\u001B[A\n",
      "2it [05:01, 153.57s/it]\n",
      "  0%|                                                     | 0/8 [00:00<?, ?it/s]\u001B[A\n",
      " 12%|█████▋                                       | 1/8 [01:38<11:26, 98.13s/it]\u001B[A\n",
      " 25%|███████████▎                                 | 2/8 [02:04<07:40, 76.72s/it]\u001B[A\n",
      " 38%|████████████████▉                            | 3/8 [02:15<04:44, 56.88s/it]\u001B[A\n",
      " 50%|██████████████████████▌                      | 4/8 [02:40<03:09, 47.27s/it]\u001B[A\n",
      " 62%|████████████████████████████▏                | 5/8 [02:58<01:55, 38.54s/it]\u001B[A\n",
      " 75%|█████████████████████████████████▊           | 6/8 [03:11<01:01, 30.93s/it]\u001B[A\n",
      " 88%|███████████████████████████████████████▍     | 7/8 [03:20<00:24, 24.39s/it]\u001B[A\n",
      "100%|█████████████████████████████████████████████| 8/8 [03:34<00:00, 26.86s/it]\u001B[A\n",
      "3it [08:36, 171.97s/it]\n",
      "  0%|                                                     | 0/8 [00:00<?, ?it/s]\u001B[A\n",
      " 12%|█████▋                                       | 1/8 [00:50<05:51, 50.23s/it]\u001B[A\n",
      " 25%|███████████▎                                 | 2/8 [01:25<04:34, 45.83s/it]\u001B[A\n",
      " 38%|████████████████▉                            | 3/8 [01:38<03:00, 36.01s/it]\u001B[A\n",
      " 50%|██████████████████████▌                      | 4/8 [01:47<01:50, 27.68s/it]\u001B[A\n",
      " 62%|████████████████████████████▏                | 5/8 [01:55<01:05, 21.83s/it]\u001B[A\n",
      " 75%|█████████████████████████████████▊           | 6/8 [02:02<00:35, 17.51s/it]\u001B[A\n",
      " 88%|███████████████████████████████████████▍     | 7/8 [02:12<00:15, 15.07s/it]\u001B[A\n",
      "100%|█████████████████████████████████████████████| 8/8 [02:23<00:00, 17.90s/it]\u001B[A\n",
      "4it [10:59, 163.34s/it]\n",
      "  0%|                                                     | 0/8 [00:00<?, ?it/s]\u001B[A\n",
      " 12%|█████▋                                       | 1/8 [00:19<02:13, 19.01s/it]\u001B[A\n",
      " 25%|███████████▎                                 | 2/8 [00:25<01:32, 15.40s/it]\u001B[A\n",
      " 38%|████████████████▉                            | 3/8 [00:37<01:11, 14.29s/it]\u001B[A\n",
      " 50%|██████████████████████▌                      | 4/8 [00:44<00:48, 12.12s/it]\u001B[A\n",
      " 62%|████████████████████████████▏                | 5/8 [00:52<00:32, 10.70s/it]\u001B[A\n",
      " 75%|█████████████████████████████████▊           | 6/8 [01:00<00:20, 10.08s/it]\u001B[A\n",
      " 88%|███████████████████████████████████████▍     | 7/8 [01:10<00:09,  9.94s/it]\u001B[A\n",
      "100%|█████████████████████████████████████████████| 8/8 [01:21<00:00, 10.22s/it]\u001B[A\n",
      "5it [12:21, 148.33s/it]\n"
     ]
    }
   ],
   "source": [
    "vanilla_ac_rew, vanilla_ac_error = train_and_evaluate(args, sweep_param, model_gen, n_iter=10)"
   ]
  },
  {
   "cell_type": "code",
   "execution_count": 43,
   "metadata": {},
   "outputs": [],
   "source": [
    "np.save(vanilla_ac_file_rew, vanilla_ac_rew)\n",
    "np.save(vanilla_ac_file_error, vanilla_ac_error)"
   ]
  },
  {
   "cell_type": "code",
   "execution_count": 44,
   "metadata": {},
   "outputs": [
    {
     "data": {
      "text/plain": [
       "array([[-439.5, -193.5, -150.4, -108.3, -106. , -111.4, -129.5, -153.7],\n",
       "       [-335.5, -241.5, -139.1,  -87.3, -110.7, -112.2, -132.6, -156.9],\n",
       "       [-489.5, -288.8, -126.9, -105.7, -104.8, -110.5, -130.1, -153.7],\n",
       "       [-473. , -467. , -175.2, -110.8, -107.1, -106.6, -131.6, -157.3],\n",
       "       [-267.5,  -94.5, -155.9,  -95.5,  -98.7, -114.7, -130.8, -154.6]])"
      ]
     },
     "execution_count": 44,
     "metadata": {},
     "output_type": "execute_result"
    }
   ],
   "source": [
    "vanilla_ac_rew"
   ]
  },
  {
   "cell_type": "markdown",
   "metadata": {},
   "source": [
    "# R2 DDQN acrobot evaluation"
   ]
  },
  {
   "cell_type": "code",
   "execution_count": 45,
   "metadata": {},
   "outputs": [],
   "source": [
    "model_subfolder = 'r2_acrobot_sweep'\n",
    "model_name = os.listdir(os.path.abspath(os.path.join('DQN', 'model', model_subfolder)))\n",
    "model_gen = LoadModel(args, subfolder=model_subfolder, model_name=model_name)"
   ]
  },
  {
   "cell_type": "code",
   "execution_count": 46,
   "metadata": {},
   "outputs": [
    {
     "name": "stderr",
     "output_type": "stream",
     "text": [
      "0it [00:00, ?it/s]\n",
      "  0%|                                                     | 0/8 [00:00<?, ?it/s]\u001B[A\n",
      " 12%|█████▋                                       | 1/8 [00:25<02:58, 25.45s/it]\u001B[A\n",
      " 25%|███████████▎                                 | 2/8 [00:36<02:07, 21.21s/it]\u001B[A\n",
      " 38%|████████████████▉                            | 3/8 [00:47<01:29, 17.99s/it]\u001B[A\n",
      " 50%|██████████████████████▌                      | 4/8 [00:54<00:58, 14.66s/it]\u001B[A\n",
      " 62%|████████████████████████████▏                | 5/8 [01:01<00:37, 12.48s/it]\u001B[A\n",
      " 75%|█████████████████████████████████▊           | 6/8 [01:09<00:22, 11.13s/it]\u001B[A\n",
      " 88%|███████████████████████████████████████▍     | 7/8 [01:19<00:10, 10.71s/it]\u001B[A\n",
      "100%|█████████████████████████████████████████████| 8/8 [01:29<00:00, 11.20s/it]\u001B[A\n",
      "1it [01:29, 89.62s/it]\n",
      "  0%|                                                     | 0/8 [00:00<?, ?it/s]\u001B[A\n",
      " 12%|█████▋                                       | 1/8 [00:17<02:02, 17.50s/it]\u001B[A\n",
      " 25%|███████████▎                                 | 2/8 [00:31<01:39, 16.57s/it]\u001B[A\n",
      " 38%|████████████████▉                            | 3/8 [00:38<01:08, 13.69s/it]\u001B[A\n",
      " 50%|██████████████████████▌                      | 4/8 [00:47<00:48, 12.16s/it]\u001B[A\n",
      " 62%|████████████████████████████▏                | 5/8 [00:54<00:32, 10.74s/it]\u001B[A\n",
      " 75%|█████████████████████████████████▊           | 6/8 [01:02<00:19,  9.76s/it]\u001B[A\n",
      " 88%|███████████████████████████████████████▍     | 7/8 [01:11<00:09,  9.48s/it]\u001B[A\n",
      "100%|█████████████████████████████████████████████| 8/8 [01:21<00:00, 10.23s/it]\u001B[A\n",
      "2it [02:51, 87.29s/it]\n",
      "  0%|                                                     | 0/8 [00:00<?, ?it/s]\u001B[A\n",
      " 12%|█████▋                                       | 1/8 [00:34<03:58, 34.02s/it]\u001B[A\n",
      " 25%|███████████▎                                 | 2/8 [00:48<02:48, 28.06s/it]\u001B[A\n",
      " 38%|████████████████▉                            | 3/8 [01:00<01:56, 23.32s/it]\u001B[A\n",
      " 50%|██████████████████████▌                      | 4/8 [01:07<01:13, 18.39s/it]\u001B[A\n",
      " 62%|████████████████████████████▏                | 5/8 [01:14<00:45, 15.06s/it]\u001B[A\n",
      " 75%|█████████████████████████████████▊           | 6/8 [01:22<00:25, 12.94s/it]\u001B[A\n",
      " 88%|███████████████████████████████████████▍     | 7/8 [01:31<00:11, 11.72s/it]\u001B[A\n",
      "100%|█████████████████████████████████████████████| 8/8 [01:42<00:00, 12.80s/it]\u001B[A\n",
      "3it [04:33, 91.84s/it]\n",
      "  0%|                                                     | 0/8 [00:00<?, ?it/s]\u001B[A\n",
      " 12%|█████▋                                       | 1/8 [00:29<03:29, 29.97s/it]\u001B[A\n",
      " 25%|███████████▎                                 | 2/8 [00:42<02:28, 24.83s/it]\u001B[A\n",
      " 38%|████████████████▉                            | 3/8 [00:54<01:44, 20.91s/it]\u001B[A\n",
      " 50%|██████████████████████▌                      | 4/8 [01:01<01:06, 16.68s/it]\u001B[A\n",
      " 62%|████████████████████████████▏                | 5/8 [01:08<00:41, 13.88s/it]\u001B[A\n",
      " 75%|█████████████████████████████████▊           | 6/8 [01:16<00:23, 11.98s/it]\u001B[A\n",
      " 88%|███████████████████████████████████████▍     | 7/8 [01:25<00:11, 11.10s/it]\u001B[A\n",
      "100%|█████████████████████████████████████████████| 8/8 [01:35<00:00, 12.00s/it]\u001B[A\n",
      "4it [06:09, 93.09s/it]\n",
      "  0%|                                                     | 0/8 [00:00<?, ?it/s]\u001B[A\n",
      " 12%|█████▋                                       | 1/8 [00:33<03:55, 33.70s/it]\u001B[A\n",
      " 25%|███████████▎                                 | 2/8 [00:47<02:46, 27.74s/it]\u001B[A\n",
      " 38%|████████████████▉                            | 3/8 [00:55<01:49, 21.91s/it]\u001B[A\n",
      " 50%|██████████████████████▌                      | 4/8 [01:02<01:08, 17.22s/it]\u001B[A\n",
      " 62%|████████████████████████████▏                | 5/8 [01:09<00:42, 14.14s/it]\u001B[A\n",
      " 75%|█████████████████████████████████▊           | 6/8 [01:17<00:24, 12.38s/it]\u001B[A\n",
      " 88%|███████████████████████████████████████▍     | 7/8 [01:26<00:11, 11.39s/it]\u001B[A\n",
      "100%|█████████████████████████████████████████████| 8/8 [01:37<00:00, 12.13s/it]\u001B[A\n",
      "5it [07:46, 93.39s/it]\n"
     ]
    }
   ],
   "source": [
    "r2_ac_rew, r2_ac_error = train_and_evaluate(args, sweep_param, model_gen, n_iter=10)"
   ]
  },
  {
   "cell_type": "code",
   "execution_count": 47,
   "metadata": {},
   "outputs": [],
   "source": [
    "np.save(r2_ac_file_rew, r2_ac_rew)\n",
    "np.save(r2_ac_file_error, r2_ac_error)"
   ]
  },
  {
   "cell_type": "code",
   "execution_count": 48,
   "metadata": {},
   "outputs": [
    {
     "data": {
      "text/plain": [
       "array([[-371.5, -165.2, -150.6,  -98.2, -106.3, -112.3, -132.8, -152. ],\n",
       "       [-253.1, -209.3, -102.7, -114.5, -108.2, -110.6, -131.2, -154.1],\n",
       "       [-500. , -185. , -138.7,  -99.4, -103.9, -114.8, -132.1, -158.9],\n",
       "       [-429.2, -180.6, -160.4, -101. , -107.1, -111.4, -132.4, -157.3],\n",
       "       [-485.4, -194.5, -114.3,  -90.6, -100.2, -112.6, -130.5, -155.7]])"
      ]
     },
     "execution_count": 48,
     "metadata": {},
     "output_type": "execute_result"
    }
   ],
   "source": [
    "r2_ac_rew"
   ]
  },
  {
   "cell_type": "markdown",
   "metadata": {},
   "source": [
    "# Robust DDQN acrobot evaluation"
   ]
  },
  {
   "cell_type": "code",
   "execution_count": 75,
   "metadata": {},
   "outputs": [],
   "source": [
    "model_subfolder = 'ro_acrobot_sweep'\n",
    "model_name = os.listdir(os.path.abspath(os.path.join('DQN', 'model', model_subfolder)))\n",
    "model_gen = LoadModel(args, subfolder=model_subfolder, model_name=model_name)"
   ]
  },
  {
   "cell_type": "code",
   "execution_count": 76,
   "metadata": {},
   "outputs": [
    {
     "name": "stderr",
     "output_type": "stream",
     "text": [
      "0it [00:00, ?it/s]\n",
      "  0%|                                                     | 0/8 [00:00<?, ?it/s]\u001B[A\n",
      " 12%|█████▋                                       | 1/8 [00:27<03:13, 27.67s/it]\u001B[A\n",
      " 25%|███████████▎                                 | 2/8 [00:47<02:31, 25.30s/it]\u001B[A\n",
      " 38%|████████████████▉                            | 3/8 [01:02<01:51, 22.26s/it]\u001B[A\n",
      " 50%|██████████████████████▌                      | 4/8 [01:15<01:18, 19.51s/it]\u001B[A\n",
      " 62%|████████████████████████████▏                | 5/8 [01:32<00:55, 18.57s/it]\u001B[A\n",
      " 75%|█████████████████████████████████▊           | 6/8 [01:51<00:37, 18.82s/it]\u001B[A\n",
      " 88%|███████████████████████████████████████▍     | 7/8 [02:09<00:18, 18.57s/it]\u001B[A\n",
      "100%|█████████████████████████████████████████████| 8/8 [02:30<00:00, 18.81s/it]\u001B[A\n",
      "1it [02:30, 150.47s/it]\n",
      "  0%|                                                     | 0/8 [00:00<?, ?it/s]\u001B[A\n",
      " 12%|█████▋                                       | 1/8 [00:35<04:07, 35.31s/it]\u001B[A\n",
      " 25%|███████████▎                                 | 2/8 [01:06<03:24, 34.10s/it]\u001B[A\n",
      " 38%|████████████████▉                            | 3/8 [01:51<03:06, 37.23s/it]\u001B[A\n",
      " 50%|██████████████████████▌                      | 4/8 [02:13<02:11, 32.84s/it]\u001B[A\n",
      " 62%|████████████████████████████▏                | 5/8 [02:30<01:23, 27.89s/it]\u001B[A\n",
      " 75%|█████████████████████████████████▊           | 6/8 [02:48<00:50, 25.19s/it]\u001B[A\n",
      " 88%|███████████████████████████████████████▍     | 7/8 [03:02<00:21, 21.82s/it]\u001B[A\n",
      "100%|█████████████████████████████████████████████| 8/8 [03:15<00:00, 24.42s/it]\u001B[A\n",
      "2it [05:45, 163.95s/it]\n",
      "  0%|                                                     | 0/8 [00:00<?, ?it/s]\u001B[A\n",
      " 12%|█████▋                                       | 1/8 [00:26<03:03, 26.18s/it]\u001B[A\n",
      " 25%|███████████▎                                 | 2/8 [00:39<02:13, 22.24s/it]\u001B[A\n",
      " 38%|████████████████▉                            | 3/8 [00:50<01:35, 19.05s/it]\u001B[A\n",
      " 50%|██████████████████████▌                      | 4/8 [00:57<01:01, 15.35s/it]\u001B[A\n",
      " 62%|████████████████████████████▏                | 5/8 [01:05<00:39, 13.10s/it]\u001B[A\n",
      " 75%|█████████████████████████████████▊           | 6/8 [01:13<00:23, 11.64s/it]\u001B[A\n",
      " 88%|███████████████████████████████████████▍     | 7/8 [01:29<00:12, 12.78s/it]\u001B[A\n",
      "100%|█████████████████████████████████████████████| 8/8 [01:44<00:00, 13.00s/it]\u001B[A\n",
      "3it [07:29, 145.97s/it]\n",
      "  0%|                                                     | 0/8 [00:00<?, ?it/s]\u001B[A\n",
      " 12%|█████▋                                       | 1/8 [00:34<04:02, 34.62s/it]\u001B[A\n",
      " 25%|███████████▎                                 | 2/8 [00:47<02:48, 28.14s/it]\u001B[A\n",
      " 38%|████████████████▉                            | 3/8 [01:00<01:57, 23.49s/it]\u001B[A\n",
      " 50%|██████████████████████▌                      | 4/8 [01:11<01:19, 19.92s/it]\u001B[A\n",
      " 62%|████████████████████████████▏                | 5/8 [01:26<00:54, 18.26s/it]\u001B[A\n",
      " 75%|█████████████████████████████████▊           | 6/8 [01:40<00:34, 17.07s/it]\u001B[A\n",
      " 88%|███████████████████████████████████████▍     | 7/8 [01:52<00:15, 15.41s/it]\u001B[A\n",
      "100%|█████████████████████████████████████████████| 8/8 [02:06<00:00, 15.78s/it]\u001B[A\n",
      "4it [09:36, 140.06s/it]\n",
      "  0%|                                                     | 0/8 [00:00<?, ?it/s]\u001B[A\n",
      " 12%|█████▋                                       | 1/8 [00:32<03:47, 32.44s/it]\u001B[A\n",
      " 25%|███████████▎                                 | 2/8 [00:52<02:52, 28.78s/it]\u001B[A\n",
      " 38%|████████████████▉                            | 3/8 [01:04<01:58, 23.62s/it]\u001B[A\n",
      " 50%|██████████████████████▌                      | 4/8 [01:14<01:18, 19.64s/it]\u001B[A\n",
      " 62%|████████████████████████████▏                | 5/8 [01:28<00:53, 17.89s/it]\u001B[A\n",
      " 75%|█████████████████████████████████▊           | 6/8 [01:38<00:31, 15.67s/it]\u001B[A\n",
      " 88%|███████████████████████████████████████▍     | 7/8 [01:53<00:15, 15.20s/it]\u001B[A\n",
      "100%|█████████████████████████████████████████████| 8/8 [02:08<00:00, 16.02s/it]\u001B[A\n",
      "5it [11:44, 140.86s/it]\n"
     ]
    }
   ],
   "source": [
    "robust_ac_rew, robust_ac_error = train_and_evaluate(args, sweep_param, model_gen, n_iter=10)"
   ]
  },
  {
   "cell_type": "code",
   "execution_count": 77,
   "metadata": {},
   "outputs": [],
   "source": [
    "np.save(robust_ac_file_rew, robust_ac_rew)\n",
    "np.save(robust_ac_file_error, robust_ac_error)"
   ]
  },
  {
   "cell_type": "code",
   "execution_count": 78,
   "metadata": {},
   "outputs": [
    {
     "data": {
      "text/plain": [
       "array([[-328.3, -172.2, -132.1, -103.1, -105.8, -112.3, -130.1, -153.6],\n",
       "       [-335.2, -154.3, -112.8, -103.5, -108.6, -107.6, -130.8, -154. ],\n",
       "       [-270.6, -182.4, -162.4,  -90.7, -103.9, -111.2, -133.5, -156.8],\n",
       "       [-365.2, -128.9, -102.9,  -95.2, -106.1, -111.5, -130.7, -155.3],\n",
       "       [-412.4, -253.7, -133.2, -111.7, -104.9, -111.2, -130. , -159.1]])"
      ]
     },
     "execution_count": 78,
     "metadata": {},
     "output_type": "execute_result"
    }
   ],
   "source": [
    "robust_ac_rew"
   ]
  },
  {
   "cell_type": "markdown",
   "metadata": {},
   "source": [
    "# Load data"
   ]
  },
  {
   "cell_type": "code",
   "execution_count": 191,
   "metadata": {},
   "outputs": [],
   "source": [
    "vanilla_ac_rew = np.load(vanilla_ac_file_rew)\n",
    "vanilla_ac_error = np.load(vanilla_ac_file_error)"
   ]
  },
  {
   "cell_type": "code",
   "execution_count": 192,
   "metadata": {},
   "outputs": [],
   "source": [
    "r2_ac_rew = np.load(r2_ac_file_rew)\n",
    "r2_ac_error = np.load(r2_ac_file_error)"
   ]
  },
  {
   "cell_type": "code",
   "execution_count": 193,
   "metadata": {},
   "outputs": [],
   "source": [
    "robust_ac_rew = np.load(robust_ac_file_rew)\n",
    "robust_ac_error = np.load(robust_ac_file_error)"
   ]
  },
  {
   "cell_type": "code",
   "execution_count": 194,
   "metadata": {},
   "outputs": [
    {
     "data": {
      "text/plain": [
       "<Figure size 640x480 with 0 Axes>"
      ]
     },
     "metadata": {},
     "output_type": "display_data"
    },
    {
     "data": {
      "image/png": "[encoded data removed]",
      "text/plain": [
       "<Figure size 1200x600 with 1 Axes>"
      ]
     },
     "metadata": {},
     "output_type": "display_data"
    }
   ],
   "source": [
    "plt.clf()\n",
    "fontsize = 20\n",
    "fig, ax = plt.subplots(figsize=(12, 6))\n",
    "\n",
    "vanilla_ac_mean = np.mean(vanilla_ac_rew, axis=0)\n",
    "vanilla_ac_std = np.std(vanilla_ac_rew, axis=0)\n",
    "\n",
    "r2_ac_mean = np.mean(r2_ac_rew, axis=0)\n",
    "r2_ac_std = np.std(r2_ac_rew, axis=0)\n",
    "\n",
    "robust_ac_mean = np.mean(robust_ac_rew, axis=0)\n",
    "robust_ac_std = np.std(robust_ac_rew, axis=0)\n",
    "\n",
    "ax.plot(sweep_vector, vanilla_ac_mean,'b', label='Vanilla') \n",
    "ax.fill_between(sweep_vector, vanilla_ac_mean-vanilla_ac_std, vanilla_ac_mean+vanilla_ac_std, alpha=0.3)\n",
    "ax.plot(sweep_vector, r2_ac_mean,'r', label='R2') \n",
    "ax.fill_between(sweep_vector, r2_ac_mean-r2_ac_std, r2_ac_mean+r2_ac_std, alpha=0.3)\n",
    "\n",
    "ax.plot(sweep_vector, robust_ac_mean,'g', label='Robust')\n",
    "ax.fill_between(sweep_vector, robust_ac_mean-robust_ac_std, robust_ac_mean+robust_ac_std, alpha=0.3)\n",
    "\n",
    "    \n",
    "ax.invert_xaxis()\n",
    "ax.set_xlabel('Link Mass 2', fontsize=fontsize)\n",
    "# ax.set_ylabel('Reward')\n",
    "ax.set_title('Acrobot', fontweight=\"bold\", fontsize=fontsize)\n",
    "ax.set_yticks(range(-500,-80,100))\n",
    "ax.set_ylim([-500, -80])\n",
    "ax.set_xlim(np.min(sweep_vector),np.max(sweep_vector))\n",
    "ax.tick_params(axis='both', labelsize=fontsize)\n",
    "\n",
    "plt.axvline(x=1, c='black')\n",
    "frame1 = plt.gca()\n",
    "frame1.axes.yaxis.set_ticklabels([])\n",
    "\n",
    "ax.grid(True)\n",
    "# ax.legend()\n",
    "\n",
    "plt.savefig(os.path.abspath('../plots/acrobot_linkmass2_full_mean.png'))"
   ]
  },
  {
   "cell_type": "code",
   "execution_count": null,
   "metadata": {},
   "outputs": [],
   "source": []
  },
  {
   "cell_type": "markdown",
   "metadata": {},
   "source": [
    "# MountainCar"
   ]
  },
  {
   "cell_type": "code",
   "execution_count": 200,
   "metadata": {},
   "outputs": [],
   "source": [
    "updater = UpdateMountaincarParams()\n",
    "args = updater.update_parser(ddqn_parser)[0]\n",
    "args.EnvIdex = 2"
   ]
  },
  {
   "cell_type": "code",
   "execution_count": 201,
   "metadata": {},
   "outputs": [],
   "source": [
    "temp_vanilla_mc_file_rew = os.path.abspath(os.path.join('.', 'plot_data', 'vanilla_rew_mountaincar_sweep'))\n",
    "temp_vanilla_mc_file_error = os.path.abspath(os.path.join('.', 'plot_data', 'vanilla_error_mountaincar_sweep'))\n",
    "\n",
    "temp_r2_mc_file_rew = os.path.abspath(os.path.join('.', 'plot_data', 'r2_rew_mountaincar_sweep'))\n",
    "temp_r2_mc_file_error = os.path.abspath(os.path.join('.', 'plot_data', 'r2_error_mountaincar_sweep'))\n",
    "\n",
    "temp_robust_mc_file_rew = os.path.abspath(os.path.join('.', 'plot_data', 'robust_rew_mountaincar'))\n",
    "temp_robust_mc_file_error = os.path.abspath(os.path.join('.', 'plot_data', 'robust_error_mountaincar'))"
   ]
  },
  {
   "cell_type": "markdown",
   "metadata": {},
   "source": [
    "# Mountaincar gravity"
   ]
  },
  {
   "cell_type": "code",
   "execution_count": 202,
   "metadata": {},
   "outputs": [],
   "source": [
    "sweep_str = 'gravity'\n",
    "sweep_vector = get_sweep_params(2, sweep_str)\n",
    "sweep_param = [sweep_vector, sweep_str]"
   ]
  },
  {
   "cell_type": "code",
   "execution_count": 203,
   "metadata": {},
   "outputs": [],
   "source": [
    "file_end = '.npy'\n",
    "vanilla_mc_file_rew = temp_vanilla_mc_file_rew + sweep_str + file_end\n",
    "vanilla_mc_file_error = temp_vanilla_mc_file_error + sweep_str + file_end\n",
    "\n",
    "r2_mc_file_rew = temp_r2_mc_file_rew + sweep_str + file_end\n",
    "r2_mc_file_error = temp_r2_mc_file_error + sweep_str + file_end\n",
    "\n",
    "robust_mc_file_rew = temp_robust_mc_file_rew + sweep_str + file_end\n",
    "robust_mc_file_error = temp_robust_mc_file_error + sweep_str + file_end"
   ]
  },
  {
   "cell_type": "markdown",
   "metadata": {},
   "source": [
    "# Vanilla DDQN mountaincar evaluation"
   ]
  },
  {
   "cell_type": "code",
   "execution_count": 13,
   "metadata": {},
   "outputs": [],
   "source": [
    "model_subfolder = 'vanilla_mountaincar_sweep'\n",
    "model_name = os.listdir(os.path.abspath(os.path.join('DQN', 'model', model_subfolder)))\n",
    "model_gen = LoadModel(args, subfolder=model_subfolder, model_name=model_name)"
   ]
  },
  {
   "cell_type": "code",
   "execution_count": 14,
   "metadata": {},
   "outputs": [
    {
     "data": {
      "application/vnd.jupyter.widget-view+json": {
       "model_id": "6e8177e000e74cb79441c4bb53e3bf5c",
       "version_major": 2,
       "version_minor": 0
      },
      "text/plain": [
       "HBox(children=(FloatProgress(value=1.0, bar_style='info', layout=Layout(width='20px'), max=1.0), HTML(value=''…"
      ]
     },
     "metadata": {},
     "output_type": "display_data"
    },
    {
     "data": {
      "application/vnd.jupyter.widget-view+json": {
       "model_id": "d55797760fb04ace95cb735c816244fc",
       "version_major": 2,
       "version_minor": 0
      },
      "text/plain": [
       "HBox(children=(FloatProgress(value=0.0, max=12.0), HTML(value='')))"
      ]
     },
     "metadata": {},
     "output_type": "display_data"
    },
    {
     "name": "stdout",
     "output_type": "stream",
     "text": [
      "\n"
     ]
    },
    {
     "data": {
      "application/vnd.jupyter.widget-view+json": {
       "model_id": "2f4d2c29fdd740488ba03a9fe0c9d8d7",
       "version_major": 2,
       "version_minor": 0
      },
      "text/plain": [
       "HBox(children=(FloatProgress(value=0.0, max=12.0), HTML(value='')))"
      ]
     },
     "metadata": {},
     "output_type": "display_data"
    },
    {
     "name": "stdout",
     "output_type": "stream",
     "text": [
      "\n"
     ]
    },
    {
     "data": {
      "application/vnd.jupyter.widget-view+json": {
       "model_id": "4478e6a8ca7b4f4790c4deb4beddcc18",
       "version_major": 2,
       "version_minor": 0
      },
      "text/plain": [
       "HBox(children=(FloatProgress(value=0.0, max=12.0), HTML(value='')))"
      ]
     },
     "metadata": {},
     "output_type": "display_data"
    },
    {
     "name": "stdout",
     "output_type": "stream",
     "text": [
      "\n"
     ]
    },
    {
     "data": {
      "application/vnd.jupyter.widget-view+json": {
       "model_id": "73e8566a2d9044aab8f812c9f0f8a819",
       "version_major": 2,
       "version_minor": 0
      },
      "text/plain": [
       "HBox(children=(FloatProgress(value=0.0, max=12.0), HTML(value='')))"
      ]
     },
     "metadata": {},
     "output_type": "display_data"
    },
    {
     "name": "stdout",
     "output_type": "stream",
     "text": [
      "\n"
     ]
    },
    {
     "data": {
      "application/vnd.jupyter.widget-view+json": {
       "model_id": "86add2a9d97d4ef6a665729fdee1888b",
       "version_major": 2,
       "version_minor": 0
      },
      "text/plain": [
       "HBox(children=(FloatProgress(value=0.0, max=12.0), HTML(value='')))"
      ]
     },
     "metadata": {},
     "output_type": "display_data"
    },
    {
     "name": "stdout",
     "output_type": "stream",
     "text": [
      "\n",
      "\n"
     ]
    }
   ],
   "source": [
    "vanilla_mc_rew, vanilla_mc_error = train_and_evaluate(args, sweep_param, model_gen, n_iter=10)"
   ]
  },
  {
   "cell_type": "code",
   "execution_count": 15,
   "metadata": {},
   "outputs": [],
   "source": [
    "np.save(vanilla_mc_file_rew, vanilla_mc_rew)\n",
    "np.save(vanilla_mc_file_error, vanilla_mc_error)"
   ]
  },
  {
   "cell_type": "code",
   "execution_count": 16,
   "metadata": {},
   "outputs": [
    {
     "data": {
      "text/plain": [
       "array([[ -65.8,  -64.4, -119.9, -110.3, -102.9, -104.2, -125.2, -144.1,\n",
       "        -200. , -200. , -200. , -200. ],\n",
       "       [-200. , -200. , -200. , -107.3,  -97. , -138.8, -150.8, -147.1,\n",
       "        -174.6, -200. , -200. , -200. ],\n",
       "       [ -93.5,  -91. ,  -90.9,  -94. ,  -94.9, -133.6, -158.4, -161.4,\n",
       "        -177.9, -200. , -200. , -200. ],\n",
       "       [ -93.2,  -91. ,  -90.9,  -86. ,  -86.8, -125.1, -135.6, -133.7,\n",
       "        -177.8, -200. , -200. , -200. ],\n",
       "       [ -94.3,  -91.6,  -90.1,  -84. ,  -86.8, -131.2, -134.3, -137.5,\n",
       "        -175. , -200. , -200. , -200. ]])"
      ]
     },
     "execution_count": 16,
     "metadata": {},
     "output_type": "execute_result"
    }
   ],
   "source": [
    "vanilla_mc_rew"
   ]
  },
  {
   "cell_type": "markdown",
   "metadata": {},
   "source": [
    "# R2 DDQN mountaincar evaluation"
   ]
  },
  {
   "cell_type": "code",
   "execution_count": 17,
   "metadata": {},
   "outputs": [],
   "source": [
    "model_subfolder = 'r2_mountaincar_sweep'\n",
    "model_name = os.listdir(os.path.abspath(os.path.join('DQN', 'model', model_subfolder)))\n",
    "model_gen = LoadModel(args, subfolder=model_subfolder, model_name=model_name)"
   ]
  },
  {
   "cell_type": "code",
   "execution_count": 18,
   "metadata": {},
   "outputs": [
    {
     "data": {
      "application/vnd.jupyter.widget-view+json": {
       "model_id": "4b642629e1d945228cef4673b852a9c8",
       "version_major": 2,
       "version_minor": 0
      },
      "text/plain": [
       "HBox(children=(FloatProgress(value=1.0, bar_style='info', layout=Layout(width='20px'), max=1.0), HTML(value=''…"
      ]
     },
     "metadata": {},
     "output_type": "display_data"
    },
    {
     "data": {
      "application/vnd.jupyter.widget-view+json": {
       "model_id": "9151b7f96737495d9dd6252521ccc734",
       "version_major": 2,
       "version_minor": 0
      },
      "text/plain": [
       "HBox(children=(FloatProgress(value=0.0, max=12.0), HTML(value='')))"
      ]
     },
     "metadata": {},
     "output_type": "display_data"
    },
    {
     "name": "stdout",
     "output_type": "stream",
     "text": [
      "\n"
     ]
    },
    {
     "data": {
      "application/vnd.jupyter.widget-view+json": {
       "model_id": "b0507d885cf047f9bc546c7fbfa41eb6",
       "version_major": 2,
       "version_minor": 0
      },
      "text/plain": [
       "HBox(children=(FloatProgress(value=0.0, max=12.0), HTML(value='')))"
      ]
     },
     "metadata": {},
     "output_type": "display_data"
    },
    {
     "name": "stdout",
     "output_type": "stream",
     "text": [
      "\n"
     ]
    },
    {
     "data": {
      "application/vnd.jupyter.widget-view+json": {
       "model_id": "ad25da29c43647f8afc8724dfaa6dbe3",
       "version_major": 2,
       "version_minor": 0
      },
      "text/plain": [
       "HBox(children=(FloatProgress(value=0.0, max=12.0), HTML(value='')))"
      ]
     },
     "metadata": {},
     "output_type": "display_data"
    },
    {
     "name": "stdout",
     "output_type": "stream",
     "text": [
      "\n"
     ]
    },
    {
     "data": {
      "application/vnd.jupyter.widget-view+json": {
       "model_id": "d26b17824beb4482b1698d7fd79e22da",
       "version_major": 2,
       "version_minor": 0
      },
      "text/plain": [
       "HBox(children=(FloatProgress(value=0.0, max=12.0), HTML(value='')))"
      ]
     },
     "metadata": {},
     "output_type": "display_data"
    },
    {
     "name": "stdout",
     "output_type": "stream",
     "text": [
      "\n"
     ]
    },
    {
     "data": {
      "application/vnd.jupyter.widget-view+json": {
       "model_id": "bf10a1dfce0842169bc16e9052870573",
       "version_major": 2,
       "version_minor": 0
      },
      "text/plain": [
       "HBox(children=(FloatProgress(value=0.0, max=12.0), HTML(value='')))"
      ]
     },
     "metadata": {},
     "output_type": "display_data"
    },
    {
     "name": "stdout",
     "output_type": "stream",
     "text": [
      "\n",
      "\n"
     ]
    }
   ],
   "source": [
    "r2_mc_rew, r2_mc_error = train_and_evaluate(args, sweep_param, model_gen, n_iter=10)"
   ]
  },
  {
   "cell_type": "code",
   "execution_count": 19,
   "metadata": {},
   "outputs": [],
   "source": [
    "np.save(r2_mc_file_rew, r2_mc_rew)\n",
    "np.save(r2_mc_file_error, r2_mc_error)"
   ]
  },
  {
   "cell_type": "code",
   "execution_count": 20,
   "metadata": {},
   "outputs": [
    {
     "data": {
      "text/plain": [
       "array([[ -69. ,  -67.2, -107.1, -106. , -100.7, -109. , -122.4, -139.7,\n",
       "        -151. , -200. , -200. , -200. ],\n",
       "       [ -66.8,  -65.8,  -88.1, -113.4, -100.3,  -99.9, -118.7, -141. ,\n",
       "        -152.7, -200. , -200. , -200. ],\n",
       "       [ -92.1,  -88.2,  -94. , -100.2,  -92.5, -126. , -137.8, -137.5,\n",
       "        -173.3, -200. , -200. , -200. ],\n",
       "       [ -93. ,  -89.2,  -90.2,  -94.6,  -90.4, -122.3, -135.4, -130.1,\n",
       "        -170.9, -200. , -200. , -200. ],\n",
       "       [ -68.6,  -68.4,  -72.8, -109.2, -100. , -106.1, -121. , -140.4,\n",
       "        -152.6, -200. , -200. , -200. ]])"
      ]
     },
     "execution_count": 20,
     "metadata": {},
     "output_type": "execute_result"
    }
   ],
   "source": [
    "r2_mc_rew"
   ]
  },
  {
   "cell_type": "markdown",
   "metadata": {},
   "source": [
    "# Robust DDQN mountaincar evaluation"
   ]
  },
  {
   "cell_type": "code",
   "execution_count": 21,
   "metadata": {},
   "outputs": [],
   "source": [
    "model_subfolder = 'ro_mountaincar_sweep'\n",
    "model_name = os.listdir(os.path.abspath(os.path.join('DQN', 'model', model_subfolder)))\n",
    "model_gen = LoadModel(args, subfolder=model_subfolder, model_name=model_name)"
   ]
  },
  {
   "cell_type": "code",
   "execution_count": 22,
   "metadata": {},
   "outputs": [
    {
     "data": {
      "application/vnd.jupyter.widget-view+json": {
       "model_id": "6d43e810a8424cd09c9a930c0eebfb19",
       "version_major": 2,
       "version_minor": 0
      },
      "text/plain": [
       "HBox(children=(FloatProgress(value=1.0, bar_style='info', layout=Layout(width='20px'), max=1.0), HTML(value=''…"
      ]
     },
     "metadata": {},
     "output_type": "display_data"
    },
    {
     "data": {
      "application/vnd.jupyter.widget-view+json": {
       "model_id": "480ddc1f95cf4668839abc9ecd37c52f",
       "version_major": 2,
       "version_minor": 0
      },
      "text/plain": [
       "HBox(children=(FloatProgress(value=0.0, max=12.0), HTML(value='')))"
      ]
     },
     "metadata": {},
     "output_type": "display_data"
    },
    {
     "name": "stdout",
     "output_type": "stream",
     "text": [
      "\n"
     ]
    },
    {
     "data": {
      "application/vnd.jupyter.widget-view+json": {
       "model_id": "75e7280f0b67447c92d98f69536abee8",
       "version_major": 2,
       "version_minor": 0
      },
      "text/plain": [
       "HBox(children=(FloatProgress(value=0.0, max=12.0), HTML(value='')))"
      ]
     },
     "metadata": {},
     "output_type": "display_data"
    },
    {
     "name": "stdout",
     "output_type": "stream",
     "text": [
      "\n"
     ]
    },
    {
     "data": {
      "application/vnd.jupyter.widget-view+json": {
       "model_id": "1b094f8f31d04710ad6d1026f5de6dcd",
       "version_major": 2,
       "version_minor": 0
      },
      "text/plain": [
       "HBox(children=(FloatProgress(value=0.0, max=12.0), HTML(value='')))"
      ]
     },
     "metadata": {},
     "output_type": "display_data"
    },
    {
     "name": "stdout",
     "output_type": "stream",
     "text": [
      "\n"
     ]
    },
    {
     "data": {
      "application/vnd.jupyter.widget-view+json": {
       "model_id": "4bf56e6d0530417ea6ad07d676b6d871",
       "version_major": 2,
       "version_minor": 0
      },
      "text/plain": [
       "HBox(children=(FloatProgress(value=0.0, max=12.0), HTML(value='')))"
      ]
     },
     "metadata": {},
     "output_type": "display_data"
    },
    {
     "name": "stdout",
     "output_type": "stream",
     "text": [
      "\n"
     ]
    },
    {
     "data": {
      "application/vnd.jupyter.widget-view+json": {
       "model_id": "756c1fe8d570454a917252d16422a3b6",
       "version_major": 2,
       "version_minor": 0
      },
      "text/plain": [
       "HBox(children=(FloatProgress(value=0.0, max=12.0), HTML(value='')))"
      ]
     },
     "metadata": {},
     "output_type": "display_data"
    },
    {
     "name": "stdout",
     "output_type": "stream",
     "text": [
      "\n",
      "\n"
     ]
    }
   ],
   "source": [
    "robust_mc_rew, robust_mc_error = train_and_evaluate(args, sweep_param, model_gen, n_iter=10)"
   ]
  },
  {
   "cell_type": "code",
   "execution_count": 23,
   "metadata": {},
   "outputs": [],
   "source": [
    "np.save(robust_mc_file_rew, robust_mc_rew)\n",
    "np.save(robust_mc_file_error, robust_mc_error)"
   ]
  },
  {
   "cell_type": "code",
   "execution_count": 24,
   "metadata": {},
   "outputs": [
    {
     "data": {
      "text/plain": [
       "array([[ -94.5,  -85.4,  -79.5, -111.7, -111.6, -138.5, -128.1, -140.7,\n",
       "        -170.6, -200. , -200. , -200. ],\n",
       "       [ -45.1,  -50. ,  -63.4, -160.3, -138. , -128.1, -156.2, -170.9,\n",
       "        -175.9, -200. , -200. , -200. ],\n",
       "       [ -51.5,  -53.7,  -64.4, -151.3, -130.1, -140.9, -167.6, -172.2,\n",
       "        -195. , -200. , -200. , -200. ],\n",
       "       [ -99.7,  -83.1,  -79.1,  -84.7, -132. , -141.7, -131.4, -158.5,\n",
       "        -176. , -200. , -200. , -200. ],\n",
       "       [ -50.6,  -53.8,  -65.2, -135.9, -123.7, -157. , -165.9, -188.9,\n",
       "        -199.1, -200. , -200. , -200. ]])"
      ]
     },
     "execution_count": 24,
     "metadata": {},
     "output_type": "execute_result"
    }
   ],
   "source": [
    "robust_mc_rew"
   ]
  },
  {
   "cell_type": "markdown",
   "metadata": {},
   "source": [
    "# Load data"
   ]
  },
  {
   "cell_type": "code",
   "execution_count": 204,
   "metadata": {},
   "outputs": [],
   "source": [
    "vanilla_mc_rew = np.load(vanilla_mc_file_rew)\n",
    "vanilla_mc_error = np.load(vanilla_mc_file_error)"
   ]
  },
  {
   "cell_type": "code",
   "execution_count": 205,
   "metadata": {},
   "outputs": [],
   "source": [
    "r2_mc_rew = np.load(r2_mc_file_rew)\n",
    "r2_mc_error = np.load(r2_mc_file_error)"
   ]
  },
  {
   "cell_type": "code",
   "execution_count": 206,
   "metadata": {},
   "outputs": [],
   "source": [
    "robust_mc_rew = np.load(robust_mc_file_rew)\n",
    "robust_mc_error = np.load(robust_mc_file_error)"
   ]
  },
  {
   "cell_type": "code",
   "execution_count": 207,
   "metadata": {},
   "outputs": [
    {
     "data": {
      "text/plain": [
       "<Figure size 640x480 with 0 Axes>"
      ]
     },
     "metadata": {},
     "output_type": "display_data"
    },
    {
     "data": {
      "image/png": "[encoded data removed]",
      "text/plain": [
       "<Figure size 1200x600 with 1 Axes>"
      ]
     },
     "metadata": {},
     "output_type": "display_data"
    }
   ],
   "source": [
    "plt.clf()\n",
    "fontsize = 20\n",
    "fig, ax = plt.subplots(figsize=(12, 6))\n",
    "\n",
    "vanilla_mc_mean = np.mean(vanilla_mc_rew, axis=0)\n",
    "vanilla_mc_std = np.std(vanilla_mc_rew, axis=0)\n",
    "\n",
    "r2_mc_mean = np.mean(r2_mc_rew, axis=0)\n",
    "r2_mc_std = np.std(r2_mc_rew, axis=0)\n",
    "\n",
    "robust_mc_mean = np.mean(robust_mc_rew, axis=0)\n",
    "robust_mc_std = np.std(robust_mc_rew, axis=0)\n",
    "\n",
    "ax.plot(sweep_vector, vanilla_mc_mean,'b', label='Vanilla') \n",
    "ax.fill_between(sweep_vector, vanilla_mc_mean-vanilla_mc_std, vanilla_mc_mean+vanilla_mc_std, alpha=0.3)\n",
    "ax.plot(sweep_vector, r2_mc_mean,'r', label='R2') \n",
    "ax.fill_between(sweep_vector, r2_mc_mean-r2_mc_std, r2_mc_mean+r2_mc_std, alpha=0.3)\n",
    "\n",
    "ax.plot(sweep_vector, robust_mc_mean,'g', label='Robust')\n",
    "ax.fill_between(sweep_vector, robust_mc_mean-robust_mc_std, robust_mc_mean+robust_mc_std, alpha=0.3)\n",
    "\n",
    "    \n",
    "ax.invert_xaxis()\n",
    "ax.set_xlabel('Gravity', fontsize=fontsize)\n",
    "ax.set_ylabel('Reward', fontsize=fontsize)\n",
    "ax.set_title('Mountaincar', fontweight=\"bold\", fontsize=fontsize)\n",
    "ax.set_yticks(range(-200, 0,40))\n",
    "ax.set_ylim([-200, 0])\n",
    "ax.set_xlim(np.min(sweep_vector),np.max(sweep_vector))\n",
    "ax.set_xlim(np.min(sweep_vector), 0.008)\n",
    "plt.axvline(x=0.0025, c='black')\n",
    "ax.tick_params(axis='both', labelsize=fontsize)\n",
    "ax.ticklabel_format(style='sci', axis='x', scilimits=(0,0))\n",
    "ax.xaxis.get_offset_text().set_fontsize(fontsize)\n",
    "\n",
    "ax.grid(True)\n",
    "# ax.legend()\n",
    "\n",
    "plt.savefig(os.path.abspath('../plots/mountaincar_gravity_full_mean.png'))"
   ]
  },
  {
   "cell_type": "code",
   "execution_count": null,
   "metadata": {},
   "outputs": [],
   "source": []
  },
  {
   "cell_type": "markdown",
   "metadata": {},
   "source": [
    "# Mountaincar force"
   ]
  },
  {
   "cell_type": "code",
   "execution_count": 208,
   "metadata": {},
   "outputs": [],
   "source": [
    "sweep_str = 'force'\n",
    "sweep_vector = get_sweep_params(2, sweep_str)\n",
    "sweep_param = [sweep_vector, sweep_str]"
   ]
  },
  {
   "cell_type": "code",
   "execution_count": 209,
   "metadata": {},
   "outputs": [],
   "source": [
    "file_end = '.npy'\n",
    "vanilla_mc_file_rew = temp_vanilla_mc_file_rew + sweep_str + file_end\n",
    "vanilla_mc_file_error = temp_vanilla_mc_file_error + sweep_str + file_end\n",
    "\n",
    "r2_mc_file_rew = temp_r2_mc_file_rew + sweep_str + file_end\n",
    "r2_mc_file_error = temp_r2_mc_file_error + sweep_str + file_end\n",
    "\n",
    "robust_mc_file_rew = temp_robust_mc_file_rew + sweep_str + file_end\n",
    "robust_mc_file_error = temp_robust_mc_file_error + sweep_str + file_end"
   ]
  },
  {
   "cell_type": "markdown",
   "metadata": {},
   "source": [
    "# Vanilla DDQN mountaincar evaluation"
   ]
  },
  {
   "cell_type": "code",
   "execution_count": 31,
   "metadata": {},
   "outputs": [],
   "source": [
    "model_subfolder = 'vanilla_mountaincar_sweep'\n",
    "model_name = os.listdir(os.path.abspath(os.path.join('DQN', 'model', model_subfolder)))\n",
    "model_gen = LoadModel(args, subfolder=model_subfolder, model_name=model_name)"
   ]
  },
  {
   "cell_type": "code",
   "execution_count": 32,
   "metadata": {},
   "outputs": [
    {
     "data": {
      "application/vnd.jupyter.widget-view+json": {
       "model_id": "d4ef4a1d61234c55b326fc7516477273",
       "version_major": 2,
       "version_minor": 0
      },
      "text/plain": [
       "HBox(children=(FloatProgress(value=1.0, bar_style='info', layout=Layout(width='20px'), max=1.0), HTML(value=''…"
      ]
     },
     "metadata": {},
     "output_type": "display_data"
    },
    {
     "data": {
      "application/vnd.jupyter.widget-view+json": {
       "model_id": "0eb257fc7d8c4c379f7766f25296a421",
       "version_major": 2,
       "version_minor": 0
      },
      "text/plain": [
       "HBox(children=(FloatProgress(value=0.0, max=11.0), HTML(value='')))"
      ]
     },
     "metadata": {},
     "output_type": "display_data"
    },
    {
     "name": "stdout",
     "output_type": "stream",
     "text": [
      "\n"
     ]
    },
    {
     "data": {
      "application/vnd.jupyter.widget-view+json": {
       "model_id": "2683b9f69e394113af148d4ee6bdccea",
       "version_major": 2,
       "version_minor": 0
      },
      "text/plain": [
       "HBox(children=(FloatProgress(value=0.0, max=11.0), HTML(value='')))"
      ]
     },
     "metadata": {},
     "output_type": "display_data"
    },
    {
     "name": "stdout",
     "output_type": "stream",
     "text": [
      "\n"
     ]
    },
    {
     "data": {
      "application/vnd.jupyter.widget-view+json": {
       "model_id": "ded897543bb84b09b002e8e3a1f3b0a7",
       "version_major": 2,
       "version_minor": 0
      },
      "text/plain": [
       "HBox(children=(FloatProgress(value=0.0, max=11.0), HTML(value='')))"
      ]
     },
     "metadata": {},
     "output_type": "display_data"
    },
    {
     "name": "stdout",
     "output_type": "stream",
     "text": [
      "\n"
     ]
    },
    {
     "data": {
      "application/vnd.jupyter.widget-view+json": {
       "model_id": "fc46d790b52643668a07f1bd0042e9fb",
       "version_major": 2,
       "version_minor": 0
      },
      "text/plain": [
       "HBox(children=(FloatProgress(value=0.0, max=11.0), HTML(value='')))"
      ]
     },
     "metadata": {},
     "output_type": "display_data"
    },
    {
     "name": "stdout",
     "output_type": "stream",
     "text": [
      "\n"
     ]
    },
    {
     "data": {
      "application/vnd.jupyter.widget-view+json": {
       "model_id": "ee91ce1bd4c441a08d90f1a3aa5cabbe",
       "version_major": 2,
       "version_minor": 0
      },
      "text/plain": [
       "HBox(children=(FloatProgress(value=0.0, max=11.0), HTML(value='')))"
      ]
     },
     "metadata": {},
     "output_type": "display_data"
    },
    {
     "name": "stdout",
     "output_type": "stream",
     "text": [
      "\n",
      "\n"
     ]
    }
   ],
   "source": [
    "vanilla_mc_rew, vanilla_mc_error = train_and_evaluate(args, sweep_param, model_gen, n_iter=10)"
   ]
  },
  {
   "cell_type": "code",
   "execution_count": 33,
   "metadata": {},
   "outputs": [],
   "source": [
    "np.save(vanilla_mc_file_rew, vanilla_mc_rew)\n",
    "np.save(vanilla_mc_file_error, vanilla_mc_error)"
   ]
  },
  {
   "cell_type": "code",
   "execution_count": 34,
   "metadata": {},
   "outputs": [
    {
     "data": {
      "text/plain": [
       "array([[-200. , -200. , -200. , -176. , -143.3, -103.8,  -72.3,  -38.4,\n",
       "         -33.3,  -32.1,  -30.1],\n",
       "       [-200. , -200. , -200. , -180.1, -165.1, -133. ,  -79.1, -200. ,\n",
       "        -200. , -200. , -200. ],\n",
       "       [-200. , -200. , -200. , -188.9, -170.9, -134.3,  -68.7,  -50. ,\n",
       "         -44. ,  -42. ,  -40. ],\n",
       "       [-200. , -200. , -200. , -176.9, -149. , -125.4,  -64.8,  -50. ,\n",
       "         -44. ,  -42. ,  -40. ],\n",
       "       [-200. , -200. , -200. , -173. , -148.7, -123.7,  -64. ,  -50. ,\n",
       "         -45. ,  -42. ,  -40. ]])"
      ]
     },
     "execution_count": 34,
     "metadata": {},
     "output_type": "execute_result"
    }
   ],
   "source": [
    "vanilla_mc_rew"
   ]
  },
  {
   "cell_type": "markdown",
   "metadata": {},
   "source": [
    "# R2 DDQN mountaincar evaluation"
   ]
  },
  {
   "cell_type": "code",
   "execution_count": 35,
   "metadata": {},
   "outputs": [],
   "source": [
    "model_subfolder = 'r2_mountaincar_sweep'\n",
    "model_name = os.listdir(os.path.abspath(os.path.join('DQN', 'model', model_subfolder)))\n",
    "model_gen = LoadModel(args, subfolder=model_subfolder, model_name=model_name)"
   ]
  },
  {
   "cell_type": "code",
   "execution_count": 36,
   "metadata": {},
   "outputs": [
    {
     "data": {
      "application/vnd.jupyter.widget-view+json": {
       "model_id": "298c26cefc874dc6b857e02cfbb5d847",
       "version_major": 2,
       "version_minor": 0
      },
      "text/plain": [
       "HBox(children=(FloatProgress(value=1.0, bar_style='info', layout=Layout(width='20px'), max=1.0), HTML(value=''…"
      ]
     },
     "metadata": {},
     "output_type": "display_data"
    },
    {
     "data": {
      "application/vnd.jupyter.widget-view+json": {
       "model_id": "39f14a0f71d1409c8ecd0d72ecbefba4",
       "version_major": 2,
       "version_minor": 0
      },
      "text/plain": [
       "HBox(children=(FloatProgress(value=0.0, max=11.0), HTML(value='')))"
      ]
     },
     "metadata": {},
     "output_type": "display_data"
    },
    {
     "name": "stdout",
     "output_type": "stream",
     "text": [
      "\n"
     ]
    },
    {
     "data": {
      "application/vnd.jupyter.widget-view+json": {
       "model_id": "88af16e943f649d28584a8ac4d61b9c0",
       "version_major": 2,
       "version_minor": 0
      },
      "text/plain": [
       "HBox(children=(FloatProgress(value=0.0, max=11.0), HTML(value='')))"
      ]
     },
     "metadata": {},
     "output_type": "display_data"
    },
    {
     "name": "stdout",
     "output_type": "stream",
     "text": [
      "\n"
     ]
    },
    {
     "data": {
      "application/vnd.jupyter.widget-view+json": {
       "model_id": "07214c4c46024f389cd2d312f77b5ec5",
       "version_major": 2,
       "version_minor": 0
      },
      "text/plain": [
       "HBox(children=(FloatProgress(value=0.0, max=11.0), HTML(value='')))"
      ]
     },
     "metadata": {},
     "output_type": "display_data"
    },
    {
     "name": "stdout",
     "output_type": "stream",
     "text": [
      "\n"
     ]
    },
    {
     "data": {
      "application/vnd.jupyter.widget-view+json": {
       "model_id": "0687f7f61b4c4337a8d9d566a67bf92c",
       "version_major": 2,
       "version_minor": 0
      },
      "text/plain": [
       "HBox(children=(FloatProgress(value=0.0, max=11.0), HTML(value='')))"
      ]
     },
     "metadata": {},
     "output_type": "display_data"
    },
    {
     "name": "stdout",
     "output_type": "stream",
     "text": [
      "\n"
     ]
    },
    {
     "data": {
      "application/vnd.jupyter.widget-view+json": {
       "model_id": "19803277d8684e54b3df8d702d108a54",
       "version_major": 2,
       "version_minor": 0
      },
      "text/plain": [
       "HBox(children=(FloatProgress(value=0.0, max=11.0), HTML(value='')))"
      ]
     },
     "metadata": {},
     "output_type": "display_data"
    },
    {
     "name": "stdout",
     "output_type": "stream",
     "text": [
      "\n",
      "\n"
     ]
    }
   ],
   "source": [
    "r2_mc_rew, r2_mc_error = train_and_evaluate(args, sweep_param, model_gen, n_iter=10)"
   ]
  },
  {
   "cell_type": "code",
   "execution_count": 37,
   "metadata": {},
   "outputs": [],
   "source": [
    "np.save(r2_mc_file_rew, r2_mc_rew)\n",
    "np.save(r2_mc_file_error, r2_mc_error)"
   ]
  },
  {
   "cell_type": "code",
   "execution_count": 38,
   "metadata": {},
   "outputs": [
    {
     "data": {
      "text/plain": [
       "array([[-200. , -200. , -200. , -177.6, -135.1, -107.8,  -63.5,  -39.4,\n",
       "         -33.3,  -30.4,  -30.3],\n",
       "       [-200. , -200. , -200. , -175.8, -145.2, -100.3,  -63.5,  -35.7,\n",
       "         -31.5,  -28.1,  -27.9],\n",
       "       [-200. , -200. , -200. , -175.9, -150.4, -124.7,  -69.6,  -47.8,\n",
       "         -43.7,  -40.9,  -38.7],\n",
       "       [-200. , -200. , -200. , -170.3, -148.1, -126.4,  -68.6,  -49.6,\n",
       "         -43.5,  -41.8,  -40. ],\n",
       "       [-200. , -200. , -200. , -176. , -132.3, -106.7,  -57.7,  -37. ,\n",
       "         -31.9,  -29.2,  -27. ]])"
      ]
     },
     "execution_count": 38,
     "metadata": {},
     "output_type": "execute_result"
    }
   ],
   "source": [
    "r2_mc_rew"
   ]
  },
  {
   "cell_type": "markdown",
   "metadata": {},
   "source": [
    "# Robust DDQN mountaincar evaluation"
   ]
  },
  {
   "cell_type": "code",
   "execution_count": 39,
   "metadata": {},
   "outputs": [],
   "source": [
    "model_subfolder = 'ro_mountaincar_sweep'\n",
    "model_name = os.listdir(os.path.abspath(os.path.join('DQN', 'model', model_subfolder)))\n",
    "model_gen = LoadModel(args, subfolder=model_subfolder, model_name=model_name)"
   ]
  },
  {
   "cell_type": "code",
   "execution_count": 40,
   "metadata": {},
   "outputs": [
    {
     "data": {
      "application/vnd.jupyter.widget-view+json": {
       "model_id": "fa4fa6e85bf74eeaa3e60fceb9cfe6e1",
       "version_major": 2,
       "version_minor": 0
      },
      "text/plain": [
       "HBox(children=(FloatProgress(value=1.0, bar_style='info', layout=Layout(width='20px'), max=1.0), HTML(value=''…"
      ]
     },
     "metadata": {},
     "output_type": "display_data"
    },
    {
     "data": {
      "application/vnd.jupyter.widget-view+json": {
       "model_id": "09a79d62fb7c4380be9fe5ff6469ffbf",
       "version_major": 2,
       "version_minor": 0
      },
      "text/plain": [
       "HBox(children=(FloatProgress(value=0.0, max=11.0), HTML(value='')))"
      ]
     },
     "metadata": {},
     "output_type": "display_data"
    },
    {
     "name": "stdout",
     "output_type": "stream",
     "text": [
      "\n"
     ]
    },
    {
     "data": {
      "application/vnd.jupyter.widget-view+json": {
       "model_id": "eaad2cec67cd4631808272b88fc8a2e2",
       "version_major": 2,
       "version_minor": 0
      },
      "text/plain": [
       "HBox(children=(FloatProgress(value=0.0, max=11.0), HTML(value='')))"
      ]
     },
     "metadata": {},
     "output_type": "display_data"
    },
    {
     "name": "stdout",
     "output_type": "stream",
     "text": [
      "\n"
     ]
    },
    {
     "data": {
      "application/vnd.jupyter.widget-view+json": {
       "model_id": "73ae1a7645eb420db12154626235cd2a",
       "version_major": 2,
       "version_minor": 0
      },
      "text/plain": [
       "HBox(children=(FloatProgress(value=0.0, max=11.0), HTML(value='')))"
      ]
     },
     "metadata": {},
     "output_type": "display_data"
    },
    {
     "name": "stdout",
     "output_type": "stream",
     "text": [
      "\n"
     ]
    },
    {
     "data": {
      "application/vnd.jupyter.widget-view+json": {
       "model_id": "d03eb3cc03384a1bb4ce6edd089e8c54",
       "version_major": 2,
       "version_minor": 0
      },
      "text/plain": [
       "HBox(children=(FloatProgress(value=0.0, max=11.0), HTML(value='')))"
      ]
     },
     "metadata": {},
     "output_type": "display_data"
    },
    {
     "name": "stdout",
     "output_type": "stream",
     "text": [
      "\n"
     ]
    },
    {
     "data": {
      "application/vnd.jupyter.widget-view+json": {
       "model_id": "839c452a0dca4ef8810bdd6253c3d477",
       "version_major": 2,
       "version_minor": 0
      },
      "text/plain": [
       "HBox(children=(FloatProgress(value=0.0, max=11.0), HTML(value='')))"
      ]
     },
     "metadata": {},
     "output_type": "display_data"
    },
    {
     "name": "stdout",
     "output_type": "stream",
     "text": [
      "\n",
      "\n"
     ]
    }
   ],
   "source": [
    "robust_mc_rew, robust_mc_error = train_and_evaluate(args, sweep_param, model_gen, n_iter=10)"
   ]
  },
  {
   "cell_type": "code",
   "execution_count": 41,
   "metadata": {},
   "outputs": [],
   "source": [
    "np.save(robust_mc_file_rew, robust_mc_rew)\n",
    "np.save(robust_mc_file_error, robust_mc_error)"
   ]
  },
  {
   "cell_type": "code",
   "execution_count": 42,
   "metadata": {},
   "outputs": [
    {
     "data": {
      "text/plain": [
       "array([[-200. , -200. , -200. , -186.4, -154.1, -135.8,  -63.1,  -44.1,\n",
       "         -45.1,  -40.7,  -38.3],\n",
       "       [-200. , -200. , -200. , -199.1, -176.2, -129.7,  -79.8,  -26. ,\n",
       "         -21. ,  -18.7,  -17.7],\n",
       "       [-200. , -200. , -200. , -200. , -188.3, -141.3,  -70. ,  -28. ,\n",
       "         -22.9,  -21.4,  -19.5],\n",
       "       [-200. , -200. , -200. , -196.9, -146.8, -141.5,  -56.6,  -48.6,\n",
       "         -44.7,  -42.6,  -41.3],\n",
       "       [-200. , -200. , -200. , -200. , -187.6, -160.2,  -67.6,  -28.3,\n",
       "         -22.7,  -21. ,  -20.1]])"
      ]
     },
     "execution_count": 42,
     "metadata": {},
     "output_type": "execute_result"
    }
   ],
   "source": [
    "robust_mc_rew"
   ]
  },
  {
   "cell_type": "markdown",
   "metadata": {},
   "source": [
    "# Load data"
   ]
  },
  {
   "cell_type": "code",
   "execution_count": 210,
   "metadata": {},
   "outputs": [],
   "source": [
    "vanilla_mc_rew = np.load(vanilla_mc_file_rew)\n",
    "vanilla_mc_error = np.load(vanilla_mc_file_error)"
   ]
  },
  {
   "cell_type": "code",
   "execution_count": 211,
   "metadata": {},
   "outputs": [],
   "source": [
    "r2_mc_rew = np.load(r2_mc_file_rew)\n",
    "r2_mc_error = np.load(r2_mc_file_error)"
   ]
  },
  {
   "cell_type": "code",
   "execution_count": 212,
   "metadata": {},
   "outputs": [],
   "source": [
    "robust_mc_rew = np.load(robust_mc_file_rew)\n",
    "robust_mc_error = np.load(robust_mc_file_error)"
   ]
  },
  {
   "cell_type": "code",
   "execution_count": 213,
   "metadata": {},
   "outputs": [
    {
     "data": {
      "text/plain": [
       "<Figure size 640x480 with 0 Axes>"
      ]
     },
     "metadata": {},
     "output_type": "display_data"
    },
    {
     "data": {
      "image/png": "[encoded data removed]",
      "text/plain": [
       "<Figure size 1200x600 with 1 Axes>"
      ]
     },
     "metadata": {},
     "output_type": "display_data"
    }
   ],
   "source": [
    "plt.clf()\n",
    "fontsize = 20\n",
    "fig, ax = plt.subplots(figsize=(12, 6))\n",
    "\n",
    "vanilla_mc_mean = np.mean(vanilla_mc_rew, axis=0)\n",
    "vanilla_mc_std = np.std(vanilla_mc_rew, axis=0)\n",
    "\n",
    "r2_mc_mean = np.mean(r2_mc_rew, axis=0)\n",
    "r2_mc_std = np.std(r2_mc_rew, axis=0)\n",
    "\n",
    "robust_mc_mean = np.mean(robust_mc_rew, axis=0)\n",
    "robust_mc_std = np.std(robust_mc_rew, axis=0)\n",
    "\n",
    "ax.plot(sweep_vector, vanilla_mc_mean,'b', label='Vanilla') \n",
    "ax.fill_between(sweep_vector, vanilla_mc_mean-vanilla_mc_std, vanilla_mc_mean+vanilla_mc_std, alpha=0.3)\n",
    "ax.plot(sweep_vector, r2_mc_mean,'r', label='R2') \n",
    "ax.fill_between(sweep_vector, r2_mc_mean-r2_mc_std, r2_mc_mean+r2_mc_std, alpha=0.3)\n",
    "\n",
    "ax.plot(sweep_vector, robust_mc_mean,'g', label='Robust')\n",
    "ax.fill_between(sweep_vector, robust_mc_mean-robust_mc_std, robust_mc_mean+robust_mc_std, alpha=0.3)\n",
    "\n",
    "    \n",
    "ax.invert_xaxis()\n",
    "ax.set_xlabel('Force', fontsize=fontsize)\n",
    "# ax.set_ylabel('Reward', fontsize=fontsize)\n",
    "ax.set_title('Mountaincar', fontweight=\"bold\", fontsize=fontsize)\n",
    "ax.set_yticks(range(-200, 0,40))\n",
    "ax.set_ylim([-200, 0])\n",
    "ax.set_xlim(np.min(sweep_vector),np.max(sweep_vector))\n",
    "# ax.set_xlim(1, 10)\n",
    "ax.tick_params(axis='both', labelsize=fontsize)\n",
    "ax.ticklabel_format(style='sci', axis='x', scilimits=(0,0))\n",
    "ax.xaxis.get_offset_text().set_fontsize(fontsize)\n",
    "\n",
    "plt.axvline(x=0.001, c='black')\n",
    "\n",
    "frame1 = plt.gca()\n",
    "frame1.axes.yaxis.set_ticklabels([])\n",
    "\n",
    "ax.grid(True)\n",
    "# ax.legend()\n",
    "\n",
    "plt.savefig(os.path.abspath('../plots/mountaincar_force_full_mean.png'))"
   ]
  },
  {
   "cell_type": "code",
   "execution_count": null,
   "metadata": {},
   "outputs": [],
   "source": []
  }
 ],
 "metadata": {
  "kernelspec": {
   "display_name": "Python 3 (ipykernel)",
   "language": "python",
   "name": "python3"
  },
  "language_info": {
   "codemirror_mode": {
    "name": "ipython",
    "version": 3
   },
   "file_extension": ".py",
   "mimetype": "text/x-python",
   "name": "python",
   "nbconvert_exporter": "python",
   "pygments_lexer": "ipython3",
   "version": "3.8.15"
  }
 },
 "nbformat": 4,
 "nbformat_minor": 4
}
